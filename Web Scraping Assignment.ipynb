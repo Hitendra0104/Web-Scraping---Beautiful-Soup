{
 "cells": [
  {
   "cell_type": "code",
   "execution_count": null,
   "id": "d2cd107f",
   "metadata": {},
   "outputs": [],
   "source": [
    "!pip install BeautifulSoup4"
   ]
  },
  {
   "cell_type": "code",
   "execution_count": 2,
   "id": "e872aba1",
   "metadata": {},
   "outputs": [],
   "source": [
    "from bs4 import BeautifulSoup\n",
    "import requests"
   ]
  },
  {
   "cell_type": "code",
   "execution_count": 3,
   "id": "7ab6a875",
   "metadata": {},
   "outputs": [],
   "source": [
    "import pandas as pd\n",
    "import numpy as np"
   ]
  },
  {
   "cell_type": "code",
   "execution_count": null,
   "id": "bd1ff99d",
   "metadata": {},
   "outputs": [],
   "source": [
    "soup = BeautifulSoup()"
   ]
  },
  {
   "cell_type": "markdown",
   "id": "f68e67e0",
   "metadata": {},
   "source": [
    "# 1. Program to display all header tags from wikipedia"
   ]
  },
  {
   "cell_type": "code",
   "execution_count": null,
   "id": "df447ba9",
   "metadata": {},
   "outputs": [],
   "source": [
    "wiki_page = requests.get('https://en.wikipedia.org/wiki/Main_Page')"
   ]
  },
  {
   "cell_type": "code",
   "execution_count": null,
   "id": "fb60750e",
   "metadata": {},
   "outputs": [],
   "source": [
    "wiki_soup = BeautifulSoup(wiki_page.content)\n",
    "wiki_soup"
   ]
  },
  {
   "cell_type": "code",
   "execution_count": null,
   "id": "3887af4f",
   "metadata": {},
   "outputs": [],
   "source": [
    "header = []\n",
    "\n",
    "for i in wiki_soup.find_all('div',class_='vector-menu-content'):\n",
    "    header.append(i.text.split('\\n'))\n",
    "    \n",
    "    \n",
    "header"
   ]
  },
  {
   "cell_type": "markdown",
   "id": "6ae419dd",
   "metadata": {},
   "source": [
    "# 2. Python program to display IMDB’s Top rated 100 movies’ data (i.e. name, rating, year of release) and make data frame."
   ]
  },
  {
   "cell_type": "code",
   "execution_count": null,
   "id": "2d1d33fd",
   "metadata": {},
   "outputs": [],
   "source": [
    "imdb_page = requests.get('https://www.imdb.com/search/title/?groups=top_100&sort=user_rating,desc')"
   ]
  },
  {
   "cell_type": "code",
   "execution_count": null,
   "id": "357abdf1",
   "metadata": {},
   "outputs": [],
   "source": [
    "imdb_page"
   ]
  },
  {
   "cell_type": "code",
   "execution_count": null,
   "id": "70bb7539",
   "metadata": {},
   "outputs": [],
   "source": [
    "imdb_soup = BeautifulSoup(imdb_page.content)\n",
    "\n",
    "imdb_soup"
   ]
  },
  {
   "cell_type": "code",
   "execution_count": null,
   "id": "c6dba018",
   "metadata": {},
   "outputs": [],
   "source": [
    "mov_title=[]\n",
    "\n",
    "for i in imdb_soup.find_all('h3',class_=\"lister-item-header\"):\n",
    "    mov_title.append(i.text.split('\\n')[2])\n",
    "    \n",
    "mov_title"
   ]
  },
  {
   "cell_type": "code",
   "execution_count": null,
   "id": "698fa21c",
   "metadata": {},
   "outputs": [],
   "source": [
    "mov_year=[]\n",
    "\n",
    "for i in imdb_soup.find_all('h3',class_=\"lister-item-header\"):\n",
    "    mov_year.append(i.text.split('\\n')[3])\n",
    "    \n",
    "mov_year"
   ]
  },
  {
   "cell_type": "code",
   "execution_count": null,
   "id": "b73b3daa",
   "metadata": {},
   "outputs": [],
   "source": [
    "mov_rating=[]\n",
    "\n",
    "for i in imdb_soup.find_all('div',class_=\"inline-block ratings-imdb-rating\"):\n",
    "    mov_rating.append(i.text.split('\\n')[2])\n",
    "    \n",
    "mov_rating"
   ]
  },
  {
   "cell_type": "code",
   "execution_count": null,
   "id": "6b50e44d",
   "metadata": {},
   "outputs": [],
   "source": [
    "len(mov_title)"
   ]
  },
  {
   "cell_type": "code",
   "execution_count": null,
   "id": "64cd7e0b",
   "metadata": {},
   "outputs": [],
   "source": [
    "len(mov_year)"
   ]
  },
  {
   "cell_type": "code",
   "execution_count": null,
   "id": "5cd675b4",
   "metadata": {},
   "outputs": [],
   "source": [
    "len(mov_rating)"
   ]
  },
  {
   "cell_type": "code",
   "execution_count": null,
   "id": "544c195b",
   "metadata": {},
   "outputs": [],
   "source": [
    "imdb_100 = pd.DataFrame({'Movie Name':mov_title,'Year':mov_year,'Rating':mov_rating})\n",
    "imdb_100"
   ]
  },
  {
   "cell_type": "code",
   "execution_count": null,
   "id": "36ef9d74",
   "metadata": {},
   "outputs": [],
   "source": [
    "imdb_page2 = requests.get('https://www.imdb.com/search/title/?groups=top_100&sort=user_rating,desc&start=51&ref_=adv_nxt')"
   ]
  },
  {
   "cell_type": "code",
   "execution_count": null,
   "id": "c1244f97",
   "metadata": {},
   "outputs": [],
   "source": [
    "imdb_page2"
   ]
  },
  {
   "cell_type": "code",
   "execution_count": null,
   "id": "1878bd12",
   "metadata": {},
   "outputs": [],
   "source": [
    "imdb2_soup = BeautifulSoup(imdb_page2.content)"
   ]
  },
  {
   "cell_type": "code",
   "execution_count": null,
   "id": "32cfacb0",
   "metadata": {},
   "outputs": [],
   "source": [
    "for i in imdb2_soup.find_all('h3',class_=\"lister-item-header\"):\n",
    "    mov_title.append(i.text.split('\\n')[2])\n",
    "    \n",
    "mov_title"
   ]
  },
  {
   "cell_type": "code",
   "execution_count": null,
   "id": "363a91aa",
   "metadata": {},
   "outputs": [],
   "source": [
    "for i in imdb_soup.find_all('h3',class_=\"lister-item-header\"):\n",
    "    mov_year.append(i.text.split('\\n')[3])\n",
    "    \n",
    "mov_year"
   ]
  },
  {
   "cell_type": "code",
   "execution_count": null,
   "id": "9266e1da",
   "metadata": {},
   "outputs": [],
   "source": [
    "for i in imdb_soup.find_all('div',class_=\"inline-block ratings-imdb-rating\"):\n",
    "    mov_rating.append(i.text.split('\\n')[2])\n",
    "    \n",
    "mov_rating"
   ]
  },
  {
   "cell_type": "code",
   "execution_count": null,
   "id": "5f7f0e8d",
   "metadata": {},
   "outputs": [],
   "source": [
    "imdb_100 = pd.DataFrame({'Movie Name':mov_title,'Year':mov_year,'Rating':mov_rating})\n",
    "imdb_100"
   ]
  },
  {
   "cell_type": "markdown",
   "id": "7cb08825",
   "metadata": {},
   "source": [
    "# 3. Python program to display IMDB’s Top rated 100 Indian movies’ data (i.e. name, rating, year of release) and make data frame."
   ]
  },
  {
   "cell_type": "code",
   "execution_count": null,
   "id": "1e3f3743",
   "metadata": {},
   "outputs": [],
   "source": [
    "imdb_ind_page = requests.get('https://www.imdb.com/india/top-rated-indian-movies/')\n",
    "\n",
    "imdb_ind_page"
   ]
  },
  {
   "cell_type": "code",
   "execution_count": null,
   "id": "76681e9d",
   "metadata": {},
   "outputs": [],
   "source": [
    "imdb_ind_soup = BeautifulSoup(imdb_ind_page.content)\n",
    "imdb_ind_soup"
   ]
  },
  {
   "cell_type": "code",
   "execution_count": null,
   "id": "535149e9",
   "metadata": {},
   "outputs": [],
   "source": [
    "title_ind = []\n",
    "\n",
    "for i in imdb_ind_soup.find_all('td', class_='titleColumn'):\n",
    "    title_ind.append(i.text.split('\\n')[2])\n",
    "    \n",
    "title_ind"
   ]
  },
  {
   "cell_type": "code",
   "execution_count": null,
   "id": "c8254a58",
   "metadata": {},
   "outputs": [],
   "source": [
    "year_ind = []\n",
    "\n",
    "for i in imdb_ind_soup.find_all('td', class_='titleColumn'):\n",
    "    year_ind.append(i.text.split('\\n')[3])\n",
    "    \n",
    "year_ind"
   ]
  },
  {
   "cell_type": "code",
   "execution_count": null,
   "id": "d17dbe88",
   "metadata": {},
   "outputs": [],
   "source": [
    "rating_ind = []\n",
    "\n",
    "for i in imdb_ind_soup.find_all('td', class_='ratingColumn imdbRating'):\n",
    "    rating_ind.append(i.text.split('\\n')[1])\n",
    "    \n",
    "rating_ind"
   ]
  },
  {
   "cell_type": "code",
   "execution_count": null,
   "id": "64d79578",
   "metadata": {},
   "outputs": [],
   "source": [
    "print(len(title_ind))\n",
    "print(len(year_ind))\n",
    "print(len(rating_ind))"
   ]
  },
  {
   "cell_type": "code",
   "execution_count": null,
   "id": "3e7ac7ab",
   "metadata": {},
   "outputs": [],
   "source": [
    "imdb_ind = pd.DataFrame({'Movie Name':title_ind, 'Year of release':year_ind, 'Rating':rating_ind})\n",
    "imdb_ind"
   ]
  },
  {
   "cell_type": "code",
   "execution_count": null,
   "id": "e2b34c93",
   "metadata": {},
   "outputs": [],
   "source": [
    "imdb_ind_100 = imdb_ind.drop(imdb_ind.index[range(100,250)],axis=0)"
   ]
  },
  {
   "cell_type": "code",
   "execution_count": null,
   "id": "098903eb",
   "metadata": {},
   "outputs": [],
   "source": [
    "imdb_ind_100"
   ]
  },
  {
   "cell_type": "markdown",
   "id": "da74e5c1",
   "metadata": {},
   "source": [
    "# 4. Python program to scrape cricket rankings from icc-cricket.com"
   ]
  },
  {
   "cell_type": "markdown",
   "id": "a0d0b3f9",
   "metadata": {},
   "source": [
    "# 4.a Top 10 ODI teams in men’s cricket along with the records for matches, points and rating."
   ]
  },
  {
   "cell_type": "code",
   "execution_count": null,
   "id": "4f9bda71",
   "metadata": {},
   "outputs": [],
   "source": [
    "icc_oditeam_page = requests.get('https://www.icc-cricket.com/rankings/mens/team-rankings/odi')\n",
    "icc_oditeam_page"
   ]
  },
  {
   "cell_type": "code",
   "execution_count": null,
   "id": "c943dc18",
   "metadata": {},
   "outputs": [],
   "source": [
    "icc_oditeam_soup = BeautifulSoup(icc_oditeam_page.content)"
   ]
  },
  {
   "cell_type": "code",
   "execution_count": null,
   "id": "9273ef17",
   "metadata": {},
   "outputs": [],
   "source": [
    "odi_team = []\n",
    "\n",
    "for i in icc_oditeam_soup.find_all('span', class_='u-hide-phablet'):\n",
    "    odi_team.append(i.text)\n",
    "    \n",
    "odi_team"
   ]
  },
  {
   "cell_type": "code",
   "execution_count": null,
   "id": "25f75fcf",
   "metadata": {},
   "outputs": [],
   "source": [
    "odi_team_df = pd.DataFrame({'Team Name':odi_team})\n",
    "odi_team_df"
   ]
  },
  {
   "cell_type": "code",
   "execution_count": null,
   "id": "3ac4d5cf",
   "metadata": {},
   "outputs": [],
   "source": [
    "odi_team_df.drop(odi_team_df.index[range(20,25)],axis=0,inplace=True)"
   ]
  },
  {
   "cell_type": "code",
   "execution_count": null,
   "id": "ba879614",
   "metadata": {},
   "outputs": [],
   "source": [
    "odi_team_df.reset_index()"
   ]
  },
  {
   "cell_type": "code",
   "execution_count": null,
   "id": "bc9bdca8",
   "metadata": {},
   "outputs": [],
   "source": [
    "odi_matches = []\n",
    "\n",
    "for i in icc_oditeam_soup.find_all('td', class_='rankings-block__banner--matches'):\n",
    "    odi_matches.append(i.text)\n",
    "    \n",
    "odi_matches "
   ]
  },
  {
   "cell_type": "code",
   "execution_count": null,
   "id": "b4ad5253",
   "metadata": {},
   "outputs": [],
   "source": [
    "for i in icc_oditeam_soup.find_all('td', class_='table-body__cell u-center-text'):\n",
    "    odi_matches.append(i.text)\n",
    "    \n",
    "odi_matches  "
   ]
  },
  {
   "cell_type": "code",
   "execution_count": null,
   "id": "358109ef",
   "metadata": {},
   "outputs": [],
   "source": [
    "len(odi_matches)"
   ]
  },
  {
   "cell_type": "code",
   "execution_count": null,
   "id": "cd74cdcc",
   "metadata": {},
   "outputs": [],
   "source": [
    "odi_matches_df = pd.DataFrame({'Matches':odi_matches})\n",
    "odi_matches_df"
   ]
  },
  {
   "cell_type": "code",
   "execution_count": null,
   "id": "870d71dc",
   "metadata": {},
   "outputs": [],
   "source": [
    "odi_matches_df.drop(odi_matches_df.index[range(2,39,2)],axis=0,inplace=True)"
   ]
  },
  {
   "cell_type": "code",
   "execution_count": null,
   "id": "4ffb5610",
   "metadata": {},
   "outputs": [],
   "source": [
    "odi_matches_df.reset_index(drop=True,inplace=True)"
   ]
  },
  {
   "cell_type": "code",
   "execution_count": null,
   "id": "edc8aadd",
   "metadata": {},
   "outputs": [],
   "source": [
    "odi_matches_df"
   ]
  },
  {
   "cell_type": "code",
   "execution_count": null,
   "id": "f2257b97",
   "metadata": {},
   "outputs": [],
   "source": []
  },
  {
   "cell_type": "code",
   "execution_count": null,
   "id": "516a447b",
   "metadata": {},
   "outputs": [],
   "source": [
    "odi_points = []\n",
    "\n",
    "for i in icc_oditeam_soup.find_all('td', class_='rankings-block__banner--points'):\n",
    "    odi_points.append(i.text)\n",
    "    \n",
    "\n",
    "\n",
    "for i in icc_oditeam_soup.find_all('td', class_='table-body__cell u-center-text'):\n",
    "    odi_points.append(i.text)\n",
    "    \n",
    "odi_points"
   ]
  },
  {
   "cell_type": "code",
   "execution_count": null,
   "id": "b2fec169",
   "metadata": {},
   "outputs": [],
   "source": [
    "odi_points_df = pd.DataFrame({'Points':odi_points})\n",
    "odi_points_df"
   ]
  },
  {
   "cell_type": "code",
   "execution_count": null,
   "id": "bd6c1583",
   "metadata": {},
   "outputs": [],
   "source": [
    "odi_points_df.drop(odi_points_df.index[range(1,39,2)],axis=0,inplace=True)"
   ]
  },
  {
   "cell_type": "code",
   "execution_count": null,
   "id": "994efd0b",
   "metadata": {},
   "outputs": [],
   "source": [
    "odi_points_df.reset_index(drop=True,inplace=True)"
   ]
  },
  {
   "cell_type": "code",
   "execution_count": null,
   "id": "8d8b904b",
   "metadata": {},
   "outputs": [],
   "source": [
    "odi_points_df"
   ]
  },
  {
   "cell_type": "code",
   "execution_count": null,
   "id": "15e6534f",
   "metadata": {},
   "outputs": [],
   "source": [
    "odi_rating = []\n",
    "\n",
    "for i in icc_oditeam_soup.find_all('td', class_='rankings-block__banner--rating u-text-right'):\n",
    "    odi_rating.append(i.text.split('\\n')[1])\n",
    "    \n",
    "\n",
    "\n",
    "for i in icc_oditeam_soup.find_all('td', class_='table-body__cell u-text-right rating'):\n",
    "    odi_rating.append(i.text)\n",
    "    \n",
    "odi_rating"
   ]
  },
  {
   "cell_type": "code",
   "execution_count": null,
   "id": "0b68e922",
   "metadata": {},
   "outputs": [],
   "source": [
    "odi_rating_df = pd.DataFrame({'Rating':odi_rating})\n",
    "odi_rating_df"
   ]
  },
  {
   "cell_type": "code",
   "execution_count": null,
   "id": "581f3668",
   "metadata": {},
   "outputs": [],
   "source": [
    "odi_top = pd.concat([odi_team_df, odi_matches_df, odi_points_df, odi_rating_df],axis=1)"
   ]
  },
  {
   "cell_type": "code",
   "execution_count": null,
   "id": "90b4c33b",
   "metadata": {},
   "outputs": [],
   "source": [
    "odi_top"
   ]
  },
  {
   "cell_type": "code",
   "execution_count": null,
   "id": "7d25cf00",
   "metadata": {},
   "outputs": [],
   "source": [
    "odi_top_10 = odi_top.drop(odi_top.index[range(10,20)],axis=0)\n",
    "odi_top_10"
   ]
  },
  {
   "cell_type": "markdown",
   "id": "c43e3b62",
   "metadata": {},
   "source": [
    "# 4.c Top 10 ODI batsmen in men’s cricket along with the records for matches, points and rating."
   ]
  },
  {
   "cell_type": "code",
   "execution_count": null,
   "id": "fb3d68dd",
   "metadata": {},
   "outputs": [],
   "source": [
    "icc_rating_page = requests.get('https://www.icc-cricket.com/rankings/mens/player-rankings/odi/batting')\n",
    "icc_rating_page"
   ]
  },
  {
   "cell_type": "code",
   "execution_count": null,
   "id": "bd93b6c9",
   "metadata": {},
   "outputs": [],
   "source": [
    "icc_soup = BeautifulSoup(icc_rating_page.content)"
   ]
  },
  {
   "cell_type": "code",
   "execution_count": null,
   "id": "792bc4d4",
   "metadata": {},
   "outputs": [],
   "source": [
    "batsmen_name = []\n",
    "\n",
    "for i in icc_soup.find_all('div',class_='rankings-block__banner--name-large'):\n",
    "    batsmen_name.append(i.text)\n",
    "    \n",
    "for i in icc_soup.find_all('td',class_='table-body__cell rankings-table__name name'):\n",
    "    batsmen_name.append(i.text.replace('\\n',''))\n",
    "    \n",
    "batsmen_name"
   ]
  },
  {
   "cell_type": "code",
   "execution_count": null,
   "id": "2381a5b1",
   "metadata": {},
   "outputs": [],
   "source": [
    "batsmen_name_df = pd.DataFrame({'Batsmen Name':batsmen_name})"
   ]
  },
  {
   "cell_type": "code",
   "execution_count": null,
   "id": "49ae2372",
   "metadata": {},
   "outputs": [],
   "source": [
    "batsmen_name_df.drop(batsmen_name_df.index[range(10,99)],inplace=True)"
   ]
  },
  {
   "cell_type": "code",
   "execution_count": null,
   "id": "356ec8d3",
   "metadata": {},
   "outputs": [],
   "source": [
    "batsmen_country = []\n",
    "\n",
    "for i in icc_soup.find_all('div',class_='rankings-block__banner--nationality'):\n",
    "    batsmen_country.append(i.text.replace('\\n',''))\n",
    "    \n",
    "for i in icc_soup.find_all('td',class_='table-body__cell nationality-logo rankings-table__team'):\n",
    "    batsmen_country.append(i.text.replace('\\n',''))\n",
    "    \n",
    "batsmen_country"
   ]
  },
  {
   "cell_type": "code",
   "execution_count": null,
   "id": "eb6a512b",
   "metadata": {},
   "outputs": [],
   "source": [
    "batsmen_country_df = pd.DataFrame({'Batsmen Country':batsmen_country})\n",
    "batsmen_country_df.drop(batsmen_country_df.index[range(10,100)],inplace=True)"
   ]
  },
  {
   "cell_type": "code",
   "execution_count": null,
   "id": "4fbe843f",
   "metadata": {},
   "outputs": [],
   "source": [
    "batsmen_rating = []\n",
    "\n",
    "for i in icc_soup.find_all('div',class_='rankings-block__banner--rating'):\n",
    "    batsmen_rating.append(i.text.replace('\\n',''))\n",
    "    \n",
    "for i in icc_soup.find_all('td',class_='table-body__cell rating'):\n",
    "    batsmen_rating.append(i.text.replace('\\n',''))\n",
    "    \n",
    "batsmen_rating"
   ]
  },
  {
   "cell_type": "code",
   "execution_count": null,
   "id": "d7e69f7b",
   "metadata": {},
   "outputs": [],
   "source": [
    "batsmen_rating_df = pd.DataFrame({'Rating':batsmen_rating})\n",
    "batsmen_rating_df.drop(batsmen_rating_df.index[range(10,100)],inplace=True)"
   ]
  },
  {
   "cell_type": "code",
   "execution_count": null,
   "id": "e9fe2b30",
   "metadata": {},
   "outputs": [],
   "source": [
    "icc_batsmen_10 = pd.concat([batsmen_name_df,batsmen_country_df,batsmen_rating_df],axis=1)\n",
    "icc_batsmen_10"
   ]
  },
  {
   "cell_type": "markdown",
   "id": "99b0aeb3",
   "metadata": {},
   "source": [
    "# 4.c Top 10 ODI bowlers in men’s cricket along with the records for their teams and rating."
   ]
  },
  {
   "cell_type": "code",
   "execution_count": null,
   "id": "057c56d2",
   "metadata": {},
   "outputs": [],
   "source": [
    "icc_bowler_page = requests.get('https://www.icc-cricket.com/rankings/mens/player-rankings/odi/bowling')\n",
    "icc_bowler_page"
   ]
  },
  {
   "cell_type": "code",
   "execution_count": null,
   "id": "5cce178f",
   "metadata": {},
   "outputs": [],
   "source": [
    "icc_bowler_soup = BeautifulSoup(icc_bowler_page.content)"
   ]
  },
  {
   "cell_type": "code",
   "execution_count": null,
   "id": "af6d8677",
   "metadata": {},
   "outputs": [],
   "source": [
    "bowler_name = []\n",
    "\n",
    "for i in icc_bowler_soup.find_all('div',class_='rankings-block__banner--name-large'):\n",
    "    bowler_name.append(i.text)\n",
    "    \n",
    "for i in icc_bowler_soup.find_all('td',class_='table-body__cell rankings-table__name name'):\n",
    "    bowler_name.append(i.text.replace('\\n',''))\n",
    "    \n",
    "bowler_name"
   ]
  },
  {
   "cell_type": "code",
   "execution_count": null,
   "id": "9c01dcc2",
   "metadata": {},
   "outputs": [],
   "source": [
    "bowler_name_df = pd.DataFrame({'Bowler Name':bowler_name})"
   ]
  },
  {
   "cell_type": "code",
   "execution_count": null,
   "id": "17bbc963",
   "metadata": {},
   "outputs": [],
   "source": [
    "bowler_name_df.drop(bowler_name_df.index[range(10,100)],inplace=True)"
   ]
  },
  {
   "cell_type": "code",
   "execution_count": null,
   "id": "8bf85f8d",
   "metadata": {},
   "outputs": [],
   "source": [
    "bowler_country = []\n",
    "\n",
    "for i in icc_bowler_soup.find_all('div',class_='rankings-block__banner--nationality'):\n",
    "    bowler_country.append(i.text.replace('\\n',''))\n",
    "    \n",
    "for i in icc_bowler_soup.find_all('td',class_='table-body__cell nationality-logo rankings-table__team'):\n",
    "    bowler_country.append(i.text.replace('\\n',''))\n",
    "    \n",
    "bowler_country"
   ]
  },
  {
   "cell_type": "code",
   "execution_count": null,
   "id": "5080e6b6",
   "metadata": {},
   "outputs": [],
   "source": [
    "bowler_country_df = pd.DataFrame({'Bowler Country':bowler_country})\n",
    "bowler_country_df.drop(bowler_country_df.index[range(10,100)],inplace=True)"
   ]
  },
  {
   "cell_type": "code",
   "execution_count": null,
   "id": "4e58cf89",
   "metadata": {},
   "outputs": [],
   "source": [
    "bowler_rating = []\n",
    "\n",
    "for i in icc_bowler_soup.find_all('div',class_='rankings-block__banner--rating'):\n",
    "    bowler_rating.append(i.text.replace('\\n',''))\n",
    "    \n",
    "for i in icc_bowler_soup.find_all('td',class_='table-body__cell rating'):\n",
    "    bowler_rating.append(i.text.replace('\\n',''))\n",
    "    \n",
    "bowler_rating"
   ]
  },
  {
   "cell_type": "code",
   "execution_count": null,
   "id": "d22d195a",
   "metadata": {},
   "outputs": [],
   "source": [
    "bowler_rating_df = pd.DataFrame({'Rating':bowler_rating})\n",
    "bowler_rating_df.drop(bowler_rating_df.index[range(10,100)],inplace=True)"
   ]
  },
  {
   "cell_type": "code",
   "execution_count": null,
   "id": "ddedfca0",
   "metadata": {},
   "outputs": [],
   "source": [
    "icc_bowler_10 = pd.concat([bowler_name_df,bowler_country_df,bowler_rating_df],axis=1)\n",
    "icc_bowler_10"
   ]
  },
  {
   "cell_type": "markdown",
   "id": "09f896b8",
   "metadata": {},
   "source": [
    "# 5. Python program to scrape cricket rankings from icc-cricket.com."
   ]
  },
  {
   "cell_type": "markdown",
   "id": "b6b11481",
   "metadata": {},
   "source": [
    "# 5.a. Top 10 ODI teams in women’s cricket along with the records for matches, points and rating"
   ]
  },
  {
   "cell_type": "code",
   "execution_count": null,
   "id": "8eb24d96",
   "metadata": {},
   "outputs": [],
   "source": [
    "icc_woditeam_page = requests.get('https://www.icc-cricket.com/rankings/womens/team-rankings/odi')\n",
    "icc_woditeam_page"
   ]
  },
  {
   "cell_type": "code",
   "execution_count": null,
   "id": "4b3ec753",
   "metadata": {},
   "outputs": [],
   "source": [
    "icc_woditeam_soup = BeautifulSoup(icc_woditeam_page.content)"
   ]
  },
  {
   "cell_type": "code",
   "execution_count": null,
   "id": "9ada9576",
   "metadata": {},
   "outputs": [],
   "source": [
    "wodi_team = []\n",
    "\n",
    "for i in icc_woditeam_soup.find_all('span', class_='u-hide-phablet'):\n",
    "    wodi_team.append(i.text)\n",
    "    \n",
    "wodi_team"
   ]
  },
  {
   "cell_type": "code",
   "execution_count": null,
   "id": "9cb3ef71",
   "metadata": {},
   "outputs": [],
   "source": [
    "wodi_team_df = pd.DataFrame({'Team Name':wodi_team})\n",
    "wodi_team_df"
   ]
  },
  {
   "cell_type": "code",
   "execution_count": null,
   "id": "946c5642",
   "metadata": {},
   "outputs": [],
   "source": [
    "wodi_team_df.drop(wodi_team_df.index[range(11,12)],axis=0,inplace=True)\n",
    "wodi_team_df"
   ]
  },
  {
   "cell_type": "code",
   "execution_count": null,
   "id": "f6c2c933",
   "metadata": {},
   "outputs": [],
   "source": [
    "odi_team_df.reset_index()"
   ]
  },
  {
   "cell_type": "code",
   "execution_count": null,
   "id": "ddb194bb",
   "metadata": {},
   "outputs": [],
   "source": [
    "wodi_matches = []\n",
    "\n",
    "for i in icc_woditeam_soup.find_all('td', class_='rankings-block__banner--matches'):\n",
    "    wodi_matches.append(i.text)\n",
    "    \n",
    "wodi_matches "
   ]
  },
  {
   "cell_type": "code",
   "execution_count": null,
   "id": "fd92f6bf",
   "metadata": {},
   "outputs": [],
   "source": [
    "for i in icc_woditeam_soup.find_all('td', class_='table-body__cell u-center-text'):\n",
    "    wodi_matches.append(i.text)\n",
    "    \n",
    "wodi_matches  "
   ]
  },
  {
   "cell_type": "code",
   "execution_count": null,
   "id": "b265d8ed",
   "metadata": {},
   "outputs": [],
   "source": [
    "len(wodi_matches)"
   ]
  },
  {
   "cell_type": "code",
   "execution_count": null,
   "id": "cd74cdcc",
   "metadata": {},
   "outputs": [],
   "source": [
    "wodi_matches_df = pd.DataFrame({'Matches':wodi_matches})\n",
    "wodi_matches_df"
   ]
  },
  {
   "cell_type": "code",
   "execution_count": null,
   "id": "870d71dc",
   "metadata": {},
   "outputs": [],
   "source": [
    "wodi_matches_df.drop(wodi_matches_df.index[range(2,21,2)],axis=0,inplace=True)"
   ]
  },
  {
   "cell_type": "code",
   "execution_count": null,
   "id": "4ffb5610",
   "metadata": {},
   "outputs": [],
   "source": [
    "wodi_matches_df.reset_index(drop=True,inplace=True)"
   ]
  },
  {
   "cell_type": "code",
   "execution_count": null,
   "id": "edc8aadd",
   "metadata": {},
   "outputs": [],
   "source": [
    "wodi_matches_df"
   ]
  },
  {
   "cell_type": "code",
   "execution_count": null,
   "id": "f2257b97",
   "metadata": {},
   "outputs": [],
   "source": []
  },
  {
   "cell_type": "code",
   "execution_count": null,
   "id": "516a447b",
   "metadata": {},
   "outputs": [],
   "source": [
    "wodi_points = []\n",
    "\n",
    "for i in icc_woditeam_soup.find_all('td', class_='rankings-block__banner--points'):\n",
    "    wodi_points.append(i.text)\n",
    "    \n",
    "\n",
    "\n",
    "for i in icc_woditeam_soup.find_all('td', class_='table-body__cell u-center-text'):\n",
    "    wodi_points.append(i.text)\n",
    "    \n",
    "wodi_points"
   ]
  },
  {
   "cell_type": "code",
   "execution_count": null,
   "id": "b2fec169",
   "metadata": {},
   "outputs": [],
   "source": [
    "wodi_points_df = pd.DataFrame({'Points':wodi_points})\n",
    "wodi_points_df"
   ]
  },
  {
   "cell_type": "code",
   "execution_count": null,
   "id": "bd6c1583",
   "metadata": {},
   "outputs": [],
   "source": [
    "wodi_points_df.drop(wodi_points_df.index[range(1,21,2)],axis=0,inplace=True)"
   ]
  },
  {
   "cell_type": "code",
   "execution_count": null,
   "id": "994efd0b",
   "metadata": {},
   "outputs": [],
   "source": [
    "wodi_points_df.reset_index(drop=True,inplace=True)"
   ]
  },
  {
   "cell_type": "code",
   "execution_count": null,
   "id": "8d8b904b",
   "metadata": {},
   "outputs": [],
   "source": [
    "wodi_points_df"
   ]
  },
  {
   "cell_type": "code",
   "execution_count": null,
   "id": "15e6534f",
   "metadata": {},
   "outputs": [],
   "source": [
    "wodi_rating = []\n",
    "\n",
    "for i in icc_woditeam_soup.find_all('td', class_='rankings-block__banner--rating u-text-right'):\n",
    "    wodi_rating.append(i.text.split('\\n')[1])\n",
    "    \n",
    "\n",
    "\n",
    "for i in icc_woditeam_soup.find_all('td', class_='table-body__cell u-text-right rating'):\n",
    "    wodi_rating.append(i.text)\n",
    "    \n",
    "wodi_rating"
   ]
  },
  {
   "cell_type": "code",
   "execution_count": null,
   "id": "0b68e922",
   "metadata": {},
   "outputs": [],
   "source": [
    "wodi_rating_df = pd.DataFrame({'Rating':wodi_rating})\n",
    "wodi_rating_df"
   ]
  },
  {
   "cell_type": "code",
   "execution_count": null,
   "id": "581f3668",
   "metadata": {},
   "outputs": [],
   "source": [
    "wodi_top = pd.concat([wodi_team_df, wodi_matches_df, wodi_points_df, wodi_rating_df],axis=1)"
   ]
  },
  {
   "cell_type": "code",
   "execution_count": null,
   "id": "90b4c33b",
   "metadata": {},
   "outputs": [],
   "source": [
    "wodi_top"
   ]
  },
  {
   "cell_type": "code",
   "execution_count": null,
   "id": "7d25cf00",
   "metadata": {},
   "outputs": [],
   "source": [
    "wodi_top_10 = wodi_top.drop(wodi_top.index[range(11,15)],axis=0)\n",
    "wodi_top_10"
   ]
  },
  {
   "cell_type": "markdown",
   "id": "02431b89",
   "metadata": {},
   "source": [
    "# 5.b. Top 10 women’s ODI players along with the records of their team and rating."
   ]
  },
  {
   "cell_type": "code",
   "execution_count": null,
   "id": "7811e193",
   "metadata": {},
   "outputs": [],
   "source": [
    "women_bat_page = requests.get('https://www.icc-cricket.com/rankings/womens/player-rankings/odi/batting')\n",
    "women_bat_page"
   ]
  },
  {
   "cell_type": "code",
   "execution_count": null,
   "id": "b632a21f",
   "metadata": {},
   "outputs": [],
   "source": [
    "wom_bat_soup = BeautifulSoup(women_bat_page.content)"
   ]
  },
  {
   "cell_type": "code",
   "execution_count": null,
   "id": "7c3892cc",
   "metadata": {},
   "outputs": [],
   "source": [
    "wbat_name = []\n",
    "\n",
    "for i in wom_bat_soup.find_all('div', class_='rankings-block__banner--name-large'):\n",
    "    wbat_name.append(i.text)\n",
    "    \n",
    "for i in wom_bat_soup.find_all('td', class_='table-body__cell rankings-table__name name'):\n",
    "    wbat_name.append(i.text.replace('\\n',''))\n",
    "    \n",
    "wbat_name"
   ]
  },
  {
   "cell_type": "code",
   "execution_count": null,
   "id": "239e83e6",
   "metadata": {},
   "outputs": [],
   "source": [
    "wbat_name_df = pd.DataFrame({'Name':wbat_name})\n",
    "wbat_name_df"
   ]
  },
  {
   "cell_type": "code",
   "execution_count": null,
   "id": "aae2ffcd",
   "metadata": {},
   "outputs": [],
   "source": [
    "wbat_name_df.drop(wbat_name_df.index[range(10,100)],inplace=True)"
   ]
  },
  {
   "cell_type": "code",
   "execution_count": null,
   "id": "cbbf471c",
   "metadata": {},
   "outputs": [],
   "source": [
    "wbat_team = []\n",
    "\n",
    "for i in wom_bat_soup.find_all('div', class_ = 'rankings-block__banner--nationality'):\n",
    "    wbat_team.append(i.text.replace('\\n',''))\n",
    "    \n",
    "for i in wom_bat_soup.find_all('span', class_='table-body__logo-text'):\n",
    "    wbat_team.append(i.text)\n",
    "    \n",
    "wbat_team    "
   ]
  },
  {
   "cell_type": "code",
   "execution_count": null,
   "id": "b6a2e969",
   "metadata": {},
   "outputs": [],
   "source": [
    "wbat_team_df = pd.DataFrame({'Team':wbat_team})\n",
    "wbat_team_df"
   ]
  },
  {
   "cell_type": "code",
   "execution_count": null,
   "id": "d32ed699",
   "metadata": {},
   "outputs": [],
   "source": [
    "wbat_team_df.drop(wbat_team_df.index[range(10,100)],inplace=True)"
   ]
  },
  {
   "cell_type": "code",
   "execution_count": null,
   "id": "188c076b",
   "metadata": {},
   "outputs": [],
   "source": [
    "wbat_ranking= []\n",
    "\n",
    "for i in wom_bat_soup.find_all('div',class_='rankings-block__banner--rating'):\n",
    "    wbat_ranking.append(i.text)\n",
    "    \n",
    "for i in wom_bat_soup.find_all('td', class_='table-body__cell rating'):\n",
    "    wbat_ranking.append(i.text)\n",
    "    \n",
    "wbat_ranking"
   ]
  },
  {
   "cell_type": "code",
   "execution_count": null,
   "id": "684c4eb5",
   "metadata": {},
   "outputs": [],
   "source": [
    "wbat_ranking_df = pd.DataFrame({'Ranking':wbat_ranking})\n",
    "wbat_ranking_df"
   ]
  },
  {
   "cell_type": "code",
   "execution_count": null,
   "id": "ddd500d1",
   "metadata": {},
   "outputs": [],
   "source": [
    "wbat_ranking_df.drop(wbat_ranking_df.index[range(10,100)],inplace=True)"
   ]
  },
  {
   "cell_type": "code",
   "execution_count": null,
   "id": "2d917f2e",
   "metadata": {},
   "outputs": [],
   "source": [
    "wbat_10 = pd.concat([wbat_name_df,wbat_team_df,wbat_ranking_df],axis=1)"
   ]
  },
  {
   "cell_type": "code",
   "execution_count": null,
   "id": "212767bc",
   "metadata": {},
   "outputs": [],
   "source": [
    "wbat_10"
   ]
  },
  {
   "cell_type": "code",
   "execution_count": null,
   "id": "e81a5dee",
   "metadata": {},
   "outputs": [],
   "source": []
  },
  {
   "cell_type": "markdown",
   "id": "9db60793",
   "metadata": {},
   "source": [
    "# 5.c. Top 10 women’s ODI all-rounder along with the records of their team and rating."
   ]
  },
  {
   "cell_type": "code",
   "execution_count": null,
   "id": "7811e193",
   "metadata": {},
   "outputs": [],
   "source": [
    "women_all_page = requests.get('https://www.icc-cricket.com/rankings/womens/player-rankings/odi/all-rounder')\n",
    "women_all_page"
   ]
  },
  {
   "cell_type": "code",
   "execution_count": null,
   "id": "b632a21f",
   "metadata": {},
   "outputs": [],
   "source": [
    "wom_all_soup = BeautifulSoup(women_all_page.content)"
   ]
  },
  {
   "cell_type": "code",
   "execution_count": null,
   "id": "7c3892cc",
   "metadata": {},
   "outputs": [],
   "source": [
    "wall_name = []\n",
    "\n",
    "for i in wom_all_soup.find_all('div', class_='rankings-block__banner--name-large'):\n",
    "    wall_name.append(i.text)\n",
    "    \n",
    "for i in wom_all_soup.find_all('td', class_='table-body__cell rankings-table__name name'):\n",
    "    wall_name.append(i.text.replace('\\n',''))\n",
    "    \n",
    "wall_name"
   ]
  },
  {
   "cell_type": "code",
   "execution_count": null,
   "id": "239e83e6",
   "metadata": {},
   "outputs": [],
   "source": [
    "wall_name_df = pd.DataFrame({'Name':wall_name})\n",
    "wall_name_df"
   ]
  },
  {
   "cell_type": "code",
   "execution_count": null,
   "id": "aae2ffcd",
   "metadata": {},
   "outputs": [],
   "source": [
    "wall_name_df.drop(wall_name_df.index[range(10,20)],inplace=True)"
   ]
  },
  {
   "cell_type": "code",
   "execution_count": null,
   "id": "cbbf471c",
   "metadata": {},
   "outputs": [],
   "source": [
    "wall_team = []\n",
    "\n",
    "for i in wom_all_soup.find_all('div', class_ = 'rankings-block__banner--nationality'):\n",
    "    wall_team.append(i.text.replace('\\n',''))\n",
    "    \n",
    "for i in wom_all_soup.find_all('span', class_='table-body__logo-text'):\n",
    "    wall_team.append(i.text)\n",
    "    \n",
    "wall_team"
   ]
  },
  {
   "cell_type": "code",
   "execution_count": null,
   "id": "b6a2e969",
   "metadata": {},
   "outputs": [],
   "source": [
    "wall_team_df = pd.DataFrame({'Team':wall_team})\n",
    "wall_team_df"
   ]
  },
  {
   "cell_type": "code",
   "execution_count": null,
   "id": "d32ed699",
   "metadata": {},
   "outputs": [],
   "source": [
    "wall_team_df.drop(wall_team_df.index[range(10,20)],inplace=True)"
   ]
  },
  {
   "cell_type": "code",
   "execution_count": null,
   "id": "188c076b",
   "metadata": {},
   "outputs": [],
   "source": [
    "wall_ranking= []\n",
    "\n",
    "for i in wom_all_soup.find_all('div',class_='rankings-block__banner--rating'):\n",
    "    wall_ranking.append(i.text)\n",
    "    \n",
    "for i in wom_all_soup.find_all('td', class_='table-body__cell rating'):\n",
    "    wall_ranking.append(i.text)\n",
    "    \n",
    "wall_ranking"
   ]
  },
  {
   "cell_type": "code",
   "execution_count": null,
   "id": "684c4eb5",
   "metadata": {},
   "outputs": [],
   "source": [
    "wall_ranking_df = pd.DataFrame({'Ranking':wall_ranking})\n",
    "wall_ranking_df"
   ]
  },
  {
   "cell_type": "code",
   "execution_count": null,
   "id": "ddd500d1",
   "metadata": {},
   "outputs": [],
   "source": [
    "wall_ranking_df.drop(wall_ranking_df.index[range(10,20)],inplace=True)"
   ]
  },
  {
   "cell_type": "code",
   "execution_count": null,
   "id": "2d917f2e",
   "metadata": {},
   "outputs": [],
   "source": [
    "wall_10 = pd.concat([wall_name_df,wall_team_df,wall_ranking_df],axis=1)"
   ]
  },
  {
   "cell_type": "code",
   "execution_count": null,
   "id": "212767bc",
   "metadata": {},
   "outputs": [],
   "source": [
    "wall_10"
   ]
  },
  {
   "cell_type": "markdown",
   "id": "8090e27e",
   "metadata": {},
   "source": [
    "# 6. Python program to scrape details of all the posts from coreyms.com. Scrape the heading, date, content and the code for the video from the link for the youtube video from the post."
   ]
  },
  {
   "cell_type": "code",
   "execution_count": 16,
   "id": "bdf3fc43",
   "metadata": {},
   "outputs": [
    {
     "data": {
      "text/plain": [
       "<Response [200]>"
      ]
     },
     "execution_count": 16,
     "metadata": {},
     "output_type": "execute_result"
    }
   ],
   "source": [
    "coreyms_page = requests.get('https://coreyms.com/')\n",
    "coreyms_page"
   ]
  },
  {
   "cell_type": "code",
   "execution_count": 17,
   "id": "c1983afe",
   "metadata": {},
   "outputs": [],
   "source": [
    "cms_soup = BeautifulSoup(coreyms_page.content)"
   ]
  },
  {
   "cell_type": "code",
   "execution_count": 18,
   "id": "c0d83762",
   "metadata": {},
   "outputs": [
    {
     "data": {
      "text/plain": [
       "['Python Tutorial: Zip Files – Creating and Extracting Zip Archives',\n",
       " 'Python Data Science Tutorial: Analyzing the 2019 Stack Overflow Developer Survey',\n",
       " 'Python Multiprocessing Tutorial: Run Code in Parallel Using the Multiprocessing Module',\n",
       " 'Python Threading Tutorial: Run Code Concurrently Using the Threading Module',\n",
       " 'Update (2019-09-03)',\n",
       " 'Python Quick Tip: The Difference Between “==” and “is” (Equality vs Identity)',\n",
       " 'Python Tutorial: Calling External Commands Using the Subprocess Module',\n",
       " 'Visual Studio Code (Windows) – Setting up a Python Development Environment and Complete Overview',\n",
       " 'Visual Studio Code (Mac) – Setting up a Python Development Environment and Complete Overview',\n",
       " 'Clarifying the Issues with Mutable Default Arguments']"
      ]
     },
     "execution_count": 18,
     "metadata": {},
     "output_type": "execute_result"
    }
   ],
   "source": [
    "cms_head = []\n",
    "\n",
    "for i in cms_soup.find_all('a', class_ = 'entry-title-link'):\n",
    "    cms_head.append(i.text)\n",
    "    \n",
    "cms_head"
   ]
  },
  {
   "cell_type": "code",
   "execution_count": 19,
   "id": "0b617567",
   "metadata": {},
   "outputs": [
    {
     "data": {
      "text/plain": [
       "['November 19, 2019',\n",
       " 'October 17, 2019',\n",
       " 'September 21, 2019',\n",
       " 'September 12, 2019',\n",
       " 'September 3, 2019',\n",
       " 'August 6, 2019',\n",
       " 'July 24, 2019',\n",
       " 'May 1, 2019',\n",
       " 'May 1, 2019',\n",
       " 'April 24, 2019']"
      ]
     },
     "execution_count": 19,
     "metadata": {},
     "output_type": "execute_result"
    }
   ],
   "source": [
    "cms_date = []\n",
    "\n",
    "for i in cms_soup.find_all('time', class_ = 'entry-time'):\n",
    "    cms_date.append(i.text)\n",
    "    \n",
    "cms_date"
   ]
  },
  {
   "cell_type": "code",
   "execution_count": 20,
   "id": "13a9d1b8",
   "metadata": {},
   "outputs": [
    {
     "data": {
      "text/plain": [
       "['\\nIn this video, we will be learning how to create and extract zip archives. We will start by using the zipfile module, and then we will see how to do this using the shutil module. We will learn how to do this with single files and directories, as well as learning how to use gzip as well. Let’s get started…\\n\\n',\n",
       " '\\nIn this Python Programming video, we will be learning how to download and analyze real-world data from the 2019 Stack Overflow Developer Survey. This is terrific practice for anyone getting into the data science field. We will learn different ways to analyze this data and also some best practices. Let’s get started…\\n\\n\\n\\n',\n",
       " '\\nIn this Python Programming video, we will be learning how to run code in parallel using the multiprocessing module. We will also look at how to process multiple high-resolution images at the same time using a ProcessPoolExecutor from the concurrent.futures module. Let’s get started…\\n\\n\\n\\n',\n",
       " '\\nIn this Python Programming video, we will be learning how to run threads concurrently using the threading module. We will also look at how to download multiple high-resolution images online using a ThreadPoolExecutor from the concurrent.futures module. Let’s get started…\\n\\n\\n\\n',\n",
       " '\\nHey everyone. I wanted to give you an update on my videos. I will be releasing videos on threading and multiprocessing within the next week. Thanks so much for your patience. I currently have a temporary recording studio setup at my Airbnb that will allow me to record and edit the threading/multiprocessing videos. I am going to be moving into my new house in 10 days and once I have my recording studio setup then you can expect much faster video releases. I really appreciate how patient everyone has been while I go through this move, especially those of you who are contributing monthly through YouTube \\n',\n",
       " '\\nIn this Python Programming Tutorial, we will be learning the difference between using “==” and the “is” keyword when doing comparisons. The difference between these is that “==” checks to see if values are equal, and the “is” keyword checks their identity, which means it’s going to check if the values are identical in terms of being the same object in memory. We’ll learn more in the video. Let’s get started…\\n\\n\\n\\n',\n",
       " '\\nIn this Python Programming Tutorial, we will be learning how to run external commands using the subprocess module from the standard library. We will learn how to run commands, capture the output, handle errors, and also how to pipe output into other commands. Let’s get started…\\n\\n\\n\\n',\n",
       " '\\nIn this Python Programming Tutorial, we will be learning how to set up a Python development environment in VSCode on Windows. VSCode is a very nice free editor for writing Python applications and many developers are now switching over to this editor. In this video, we will learn how to install VSCode, get the Python extension installed, how to change Python interpreters, create virtual environments, format/lint our code, how to use Git within VSCode, how to debug our programs, how unit testing works, and more. We have a lot to cover, so let’s go ahead and get started…\\nVSCode on MacOS – https://youtu.be/06I63_p-2A4\\nTimestamps for topics in this tutorial: Installation – 1:13 Python Extension – 5:48 Switching Interpreters – 10:04 Changing Color Themes – 12:35 VSCode Settings – 16:16 Set Default Python – 21:33 Using Virtual Environments – 25:10 IntelliSense – 29:45 Code Formatting – 32:13 Code Linting – 37:06 Code Runner Extension – 39:42 Git Integration – 47:44 Use Different Terminal – 51:07 Debugging – 58:45 Unit Testing – 1:03:25 Zen Mode – 1:09:55\\n\\n\\n\\n',\n",
       " '\\nIn this Python Programming Tutorial, we will be learning how to set up a Python development environment in VSCode on MacOS. VSCode is a very nice free editor for writing Python applications and many developers are now switching over to this editor. In this video, we will learn how to install VSCode, get the Python extension installed, how to change Python interpreters, create virtual environments, format/lint our code, how to use Git within VSCode, how to debug our programs, how unit testing works, and more. We have a lot to cover, so let’s go ahead and get started…\\nVSCode on Windows – https://youtu.be/-nh9rCzPJ20\\nTimestamps for topics in this tutorial: Installation – 1:11 Python Extension – 6:21 Switching Interpreters – 10:16 Changing Color Themes – 13:08 VSCode Settings – 17:12 Set Default Python – 22:24 Using Virtual Environments – 25:52 IntelliSense – 30:28 Code Formatting – 33:08 Code Linting – 38:01 Code Runner Extension – 40:45 Git Integration – 49:05 Debugging – 58:15 Unit Testing – 1:02:38 Zen Mode – 1:10:42 \\n\\n\\n\\n',\n",
       " '\\nIn this Python Programming Tutorial, we will be clarifying the issues with mutable default arguments. We discussed this in my last video titled “5 Common Python Mistakes and How to Fix Them”, but I received many comments from people who were still confused. So we will be doing a deeper dive to explain exactly what is going on here. Let’s get started…\\n\\n\\n\\n']"
      ]
     },
     "execution_count": 20,
     "metadata": {},
     "output_type": "execute_result"
    }
   ],
   "source": [
    "cms_content = []\n",
    "\n",
    "for i in cms_soup.find_all('div', class_='entry-content'):\n",
    "    cms_content.append(i.text)\n",
    "    \n",
    "cms_content"
   ]
  },
  {
   "cell_type": "code",
   "execution_count": 21,
   "id": "a2929d69",
   "metadata": {},
   "outputs": [
    {
     "data": {
      "text/plain": [
       "['https://www.youtube.com/embed/z0gguhEmWiY?version=3&rel=1&showsearch=0&showinfo=1&iv_load_policy=1&fs=1&hl=en-US&autohide=2&wmode=transparent',\n",
       " 'https://www.youtube.com/embed/_P7X8tMplsw?version=3&rel=1&showsearch=0&showinfo=1&iv_load_policy=1&fs=1&hl=en-US&autohide=2&wmode=transparent',\n",
       " 'https://www.youtube.com/embed/fKl2JW_qrso?version=3&rel=1&showsearch=0&showinfo=1&iv_load_policy=1&fs=1&hl=en-US&autohide=2&wmode=transparent',\n",
       " 'https://www.youtube.com/embed/IEEhzQoKtQU?version=3&rel=1&showsearch=0&showinfo=1&iv_load_policy=1&fs=1&hl=en-US&autohide=2&wmode=transparent',\n",
       " 'https://www.youtube.com/embed/mO_dS3rXDIs?version=3&rel=1&showsearch=0&showinfo=1&iv_load_policy=1&fs=1&hl=en-US&autohide=2&wmode=transparent',\n",
       " 'https://www.youtube.com/embed/2Fp1N6dof0Y?version=3&rel=1&showsearch=0&showinfo=1&iv_load_policy=1&fs=1&hl=en-US&autohide=2&wmode=transparent',\n",
       " 'https://www.youtube.com/embed/-nh9rCzPJ20?version=3&rel=1&showsearch=0&showinfo=1&iv_load_policy=1&fs=1&hl=en-US&autohide=2&wmode=transparent',\n",
       " 'https://www.youtube.com/embed/06I63_p-2A4?version=3&rel=1&showsearch=0&showinfo=1&iv_load_policy=1&fs=1&hl=en-US&autohide=2&wmode=transparent',\n",
       " 'https://www.youtube.com/embed/_JGmemuINww?version=3&rel=1&showsearch=0&showinfo=1&iv_load_policy=1&fs=1&hl=en-US&autohide=2&wmode=transparent']"
      ]
     },
     "execution_count": 21,
     "metadata": {},
     "output_type": "execute_result"
    }
   ],
   "source": [
    "cms_link = []\n",
    "\n",
    "for i in cms_soup.find_all('iframe', class_='youtube-player'):\n",
    "    cms_link.append(i['src'])\n",
    "    \n",
    "cms_link"
   ]
  },
  {
   "cell_type": "code",
   "execution_count": 24,
   "id": "f7ce955e",
   "metadata": {},
   "outputs": [
    {
     "name": "stdout",
     "output_type": "stream",
     "text": [
      "10\n",
      "10\n",
      "10\n",
      "9\n"
     ]
    }
   ],
   "source": [
    "print(len(cms_head))\n",
    "print(len(cms_date))\n",
    "print(len(cms_content))\n",
    "print(len(cms_link))"
   ]
  },
  {
   "cell_type": "code",
   "execution_count": 25,
   "id": "3bb02178",
   "metadata": {},
   "outputs": [
    {
     "data": {
      "text/html": [
       "<div>\n",
       "<style scoped>\n",
       "    .dataframe tbody tr th:only-of-type {\n",
       "        vertical-align: middle;\n",
       "    }\n",
       "\n",
       "    .dataframe tbody tr th {\n",
       "        vertical-align: top;\n",
       "    }\n",
       "\n",
       "    .dataframe thead th {\n",
       "        text-align: right;\n",
       "    }\n",
       "</style>\n",
       "<table border=\"1\" class=\"dataframe\">\n",
       "  <thead>\n",
       "    <tr style=\"text-align: right;\">\n",
       "      <th></th>\n",
       "      <th>Heading</th>\n",
       "      <th>Date</th>\n",
       "      <th>Content</th>\n",
       "    </tr>\n",
       "  </thead>\n",
       "  <tbody>\n",
       "    <tr>\n",
       "      <th>0</th>\n",
       "      <td>Python Tutorial: Zip Files – Creating and Extr...</td>\n",
       "      <td>November 19, 2019</td>\n",
       "      <td>\\nIn this video, we will be learning how to cr...</td>\n",
       "    </tr>\n",
       "    <tr>\n",
       "      <th>1</th>\n",
       "      <td>Python Data Science Tutorial: Analyzing the 20...</td>\n",
       "      <td>October 17, 2019</td>\n",
       "      <td>\\nIn this Python Programming video, we will be...</td>\n",
       "    </tr>\n",
       "    <tr>\n",
       "      <th>2</th>\n",
       "      <td>Python Multiprocessing Tutorial: Run Code in P...</td>\n",
       "      <td>September 21, 2019</td>\n",
       "      <td>\\nIn this Python Programming video, we will be...</td>\n",
       "    </tr>\n",
       "    <tr>\n",
       "      <th>3</th>\n",
       "      <td>Python Threading Tutorial: Run Code Concurrent...</td>\n",
       "      <td>September 12, 2019</td>\n",
       "      <td>\\nIn this Python Programming video, we will be...</td>\n",
       "    </tr>\n",
       "    <tr>\n",
       "      <th>4</th>\n",
       "      <td>Update (2019-09-03)</td>\n",
       "      <td>September 3, 2019</td>\n",
       "      <td>\\nHey everyone. I wanted to give you an update...</td>\n",
       "    </tr>\n",
       "    <tr>\n",
       "      <th>5</th>\n",
       "      <td>Python Quick Tip: The Difference Between “==” ...</td>\n",
       "      <td>August 6, 2019</td>\n",
       "      <td>\\nIn this Python Programming Tutorial, we will...</td>\n",
       "    </tr>\n",
       "    <tr>\n",
       "      <th>6</th>\n",
       "      <td>Python Tutorial: Calling External Commands Usi...</td>\n",
       "      <td>July 24, 2019</td>\n",
       "      <td>\\nIn this Python Programming Tutorial, we will...</td>\n",
       "    </tr>\n",
       "    <tr>\n",
       "      <th>7</th>\n",
       "      <td>Visual Studio Code (Windows) – Setting up a Py...</td>\n",
       "      <td>May 1, 2019</td>\n",
       "      <td>\\nIn this Python Programming Tutorial, we will...</td>\n",
       "    </tr>\n",
       "    <tr>\n",
       "      <th>8</th>\n",
       "      <td>Visual Studio Code (Mac) – Setting up a Python...</td>\n",
       "      <td>May 1, 2019</td>\n",
       "      <td>\\nIn this Python Programming Tutorial, we will...</td>\n",
       "    </tr>\n",
       "    <tr>\n",
       "      <th>9</th>\n",
       "      <td>Clarifying the Issues with Mutable Default Arg...</td>\n",
       "      <td>April 24, 2019</td>\n",
       "      <td>\\nIn this Python Programming Tutorial, we will...</td>\n",
       "    </tr>\n",
       "  </tbody>\n",
       "</table>\n",
       "</div>"
      ],
      "text/plain": [
       "                                             Heading                Date  \\\n",
       "0  Python Tutorial: Zip Files – Creating and Extr...   November 19, 2019   \n",
       "1  Python Data Science Tutorial: Analyzing the 20...    October 17, 2019   \n",
       "2  Python Multiprocessing Tutorial: Run Code in P...  September 21, 2019   \n",
       "3  Python Threading Tutorial: Run Code Concurrent...  September 12, 2019   \n",
       "4                                Update (2019-09-03)   September 3, 2019   \n",
       "5  Python Quick Tip: The Difference Between “==” ...      August 6, 2019   \n",
       "6  Python Tutorial: Calling External Commands Usi...       July 24, 2019   \n",
       "7  Visual Studio Code (Windows) – Setting up a Py...         May 1, 2019   \n",
       "8  Visual Studio Code (Mac) – Setting up a Python...         May 1, 2019   \n",
       "9  Clarifying the Issues with Mutable Default Arg...      April 24, 2019   \n",
       "\n",
       "                                             Content  \n",
       "0  \\nIn this video, we will be learning how to cr...  \n",
       "1  \\nIn this Python Programming video, we will be...  \n",
       "2  \\nIn this Python Programming video, we will be...  \n",
       "3  \\nIn this Python Programming video, we will be...  \n",
       "4  \\nHey everyone. I wanted to give you an update...  \n",
       "5  \\nIn this Python Programming Tutorial, we will...  \n",
       "6  \\nIn this Python Programming Tutorial, we will...  \n",
       "7  \\nIn this Python Programming Tutorial, we will...  \n",
       "8  \\nIn this Python Programming Tutorial, we will...  \n",
       "9  \\nIn this Python Programming Tutorial, we will...  "
      ]
     },
     "execution_count": 25,
     "metadata": {},
     "output_type": "execute_result"
    }
   ],
   "source": [
    "cms_df = pd.DataFrame({'Heading':cms_head,'Date':cms_date,'Content':cms_content})\n",
    "cms_df"
   ]
  },
  {
   "cell_type": "code",
   "execution_count": 26,
   "id": "2173d41b",
   "metadata": {},
   "outputs": [
    {
     "data": {
      "text/html": [
       "<div>\n",
       "<style scoped>\n",
       "    .dataframe tbody tr th:only-of-type {\n",
       "        vertical-align: middle;\n",
       "    }\n",
       "\n",
       "    .dataframe tbody tr th {\n",
       "        vertical-align: top;\n",
       "    }\n",
       "\n",
       "    .dataframe thead th {\n",
       "        text-align: right;\n",
       "    }\n",
       "</style>\n",
       "<table border=\"1\" class=\"dataframe\">\n",
       "  <thead>\n",
       "    <tr style=\"text-align: right;\">\n",
       "      <th></th>\n",
       "      <th>Video URL</th>\n",
       "    </tr>\n",
       "  </thead>\n",
       "  <tbody>\n",
       "    <tr>\n",
       "      <th>0</th>\n",
       "      <td>https://www.youtube.com/embed/z0gguhEmWiY?vers...</td>\n",
       "    </tr>\n",
       "    <tr>\n",
       "      <th>1</th>\n",
       "      <td>https://www.youtube.com/embed/_P7X8tMplsw?vers...</td>\n",
       "    </tr>\n",
       "    <tr>\n",
       "      <th>2</th>\n",
       "      <td>https://www.youtube.com/embed/fKl2JW_qrso?vers...</td>\n",
       "    </tr>\n",
       "    <tr>\n",
       "      <th>3</th>\n",
       "      <td>https://www.youtube.com/embed/IEEhzQoKtQU?vers...</td>\n",
       "    </tr>\n",
       "    <tr>\n",
       "      <th>4</th>\n",
       "      <td>https://www.youtube.com/embed/mO_dS3rXDIs?vers...</td>\n",
       "    </tr>\n",
       "    <tr>\n",
       "      <th>5</th>\n",
       "      <td>https://www.youtube.com/embed/2Fp1N6dof0Y?vers...</td>\n",
       "    </tr>\n",
       "    <tr>\n",
       "      <th>6</th>\n",
       "      <td>https://www.youtube.com/embed/-nh9rCzPJ20?vers...</td>\n",
       "    </tr>\n",
       "    <tr>\n",
       "      <th>7</th>\n",
       "      <td>https://www.youtube.com/embed/06I63_p-2A4?vers...</td>\n",
       "    </tr>\n",
       "    <tr>\n",
       "      <th>8</th>\n",
       "      <td>https://www.youtube.com/embed/_JGmemuINww?vers...</td>\n",
       "    </tr>\n",
       "  </tbody>\n",
       "</table>\n",
       "</div>"
      ],
      "text/plain": [
       "                                           Video URL\n",
       "0  https://www.youtube.com/embed/z0gguhEmWiY?vers...\n",
       "1  https://www.youtube.com/embed/_P7X8tMplsw?vers...\n",
       "2  https://www.youtube.com/embed/fKl2JW_qrso?vers...\n",
       "3  https://www.youtube.com/embed/IEEhzQoKtQU?vers...\n",
       "4  https://www.youtube.com/embed/mO_dS3rXDIs?vers...\n",
       "5  https://www.youtube.com/embed/2Fp1N6dof0Y?vers...\n",
       "6  https://www.youtube.com/embed/-nh9rCzPJ20?vers...\n",
       "7  https://www.youtube.com/embed/06I63_p-2A4?vers...\n",
       "8  https://www.youtube.com/embed/_JGmemuINww?vers..."
      ]
     },
     "execution_count": 26,
     "metadata": {},
     "output_type": "execute_result"
    }
   ],
   "source": [
    "cms_link_df = pd.DataFrame({'Video URL':cms_link})\n",
    "cms_link_df"
   ]
  },
  {
   "cell_type": "code",
   "execution_count": 27,
   "id": "607a527a",
   "metadata": {},
   "outputs": [],
   "source": [
    "cms_df = pd.concat([cms_df,cms_link_df],axis=1)"
   ]
  },
  {
   "cell_type": "code",
   "execution_count": 28,
   "id": "007e7626",
   "metadata": {},
   "outputs": [
    {
     "data": {
      "text/html": [
       "<div>\n",
       "<style scoped>\n",
       "    .dataframe tbody tr th:only-of-type {\n",
       "        vertical-align: middle;\n",
       "    }\n",
       "\n",
       "    .dataframe tbody tr th {\n",
       "        vertical-align: top;\n",
       "    }\n",
       "\n",
       "    .dataframe thead th {\n",
       "        text-align: right;\n",
       "    }\n",
       "</style>\n",
       "<table border=\"1\" class=\"dataframe\">\n",
       "  <thead>\n",
       "    <tr style=\"text-align: right;\">\n",
       "      <th></th>\n",
       "      <th>Heading</th>\n",
       "      <th>Date</th>\n",
       "      <th>Content</th>\n",
       "      <th>Video URL</th>\n",
       "    </tr>\n",
       "  </thead>\n",
       "  <tbody>\n",
       "    <tr>\n",
       "      <th>0</th>\n",
       "      <td>Python Tutorial: Zip Files – Creating and Extr...</td>\n",
       "      <td>November 19, 2019</td>\n",
       "      <td>\\nIn this video, we will be learning how to cr...</td>\n",
       "      <td>https://www.youtube.com/embed/z0gguhEmWiY?vers...</td>\n",
       "    </tr>\n",
       "    <tr>\n",
       "      <th>1</th>\n",
       "      <td>Python Data Science Tutorial: Analyzing the 20...</td>\n",
       "      <td>October 17, 2019</td>\n",
       "      <td>\\nIn this Python Programming video, we will be...</td>\n",
       "      <td>https://www.youtube.com/embed/_P7X8tMplsw?vers...</td>\n",
       "    </tr>\n",
       "    <tr>\n",
       "      <th>2</th>\n",
       "      <td>Python Multiprocessing Tutorial: Run Code in P...</td>\n",
       "      <td>September 21, 2019</td>\n",
       "      <td>\\nIn this Python Programming video, we will be...</td>\n",
       "      <td>https://www.youtube.com/embed/fKl2JW_qrso?vers...</td>\n",
       "    </tr>\n",
       "    <tr>\n",
       "      <th>3</th>\n",
       "      <td>Python Threading Tutorial: Run Code Concurrent...</td>\n",
       "      <td>September 12, 2019</td>\n",
       "      <td>\\nIn this Python Programming video, we will be...</td>\n",
       "      <td>https://www.youtube.com/embed/IEEhzQoKtQU?vers...</td>\n",
       "    </tr>\n",
       "    <tr>\n",
       "      <th>4</th>\n",
       "      <td>Update (2019-09-03)</td>\n",
       "      <td>September 3, 2019</td>\n",
       "      <td>\\nHey everyone. I wanted to give you an update...</td>\n",
       "      <td>https://www.youtube.com/embed/mO_dS3rXDIs?vers...</td>\n",
       "    </tr>\n",
       "    <tr>\n",
       "      <th>5</th>\n",
       "      <td>Python Quick Tip: The Difference Between “==” ...</td>\n",
       "      <td>August 6, 2019</td>\n",
       "      <td>\\nIn this Python Programming Tutorial, we will...</td>\n",
       "      <td>https://www.youtube.com/embed/2Fp1N6dof0Y?vers...</td>\n",
       "    </tr>\n",
       "    <tr>\n",
       "      <th>6</th>\n",
       "      <td>Python Tutorial: Calling External Commands Usi...</td>\n",
       "      <td>July 24, 2019</td>\n",
       "      <td>\\nIn this Python Programming Tutorial, we will...</td>\n",
       "      <td>https://www.youtube.com/embed/-nh9rCzPJ20?vers...</td>\n",
       "    </tr>\n",
       "    <tr>\n",
       "      <th>7</th>\n",
       "      <td>Visual Studio Code (Windows) – Setting up a Py...</td>\n",
       "      <td>May 1, 2019</td>\n",
       "      <td>\\nIn this Python Programming Tutorial, we will...</td>\n",
       "      <td>https://www.youtube.com/embed/06I63_p-2A4?vers...</td>\n",
       "    </tr>\n",
       "    <tr>\n",
       "      <th>8</th>\n",
       "      <td>Visual Studio Code (Mac) – Setting up a Python...</td>\n",
       "      <td>May 1, 2019</td>\n",
       "      <td>\\nIn this Python Programming Tutorial, we will...</td>\n",
       "      <td>https://www.youtube.com/embed/_JGmemuINww?vers...</td>\n",
       "    </tr>\n",
       "    <tr>\n",
       "      <th>9</th>\n",
       "      <td>Clarifying the Issues with Mutable Default Arg...</td>\n",
       "      <td>April 24, 2019</td>\n",
       "      <td>\\nIn this Python Programming Tutorial, we will...</td>\n",
       "      <td>NaN</td>\n",
       "    </tr>\n",
       "  </tbody>\n",
       "</table>\n",
       "</div>"
      ],
      "text/plain": [
       "                                             Heading                Date  \\\n",
       "0  Python Tutorial: Zip Files – Creating and Extr...   November 19, 2019   \n",
       "1  Python Data Science Tutorial: Analyzing the 20...    October 17, 2019   \n",
       "2  Python Multiprocessing Tutorial: Run Code in P...  September 21, 2019   \n",
       "3  Python Threading Tutorial: Run Code Concurrent...  September 12, 2019   \n",
       "4                                Update (2019-09-03)   September 3, 2019   \n",
       "5  Python Quick Tip: The Difference Between “==” ...      August 6, 2019   \n",
       "6  Python Tutorial: Calling External Commands Usi...       July 24, 2019   \n",
       "7  Visual Studio Code (Windows) – Setting up a Py...         May 1, 2019   \n",
       "8  Visual Studio Code (Mac) – Setting up a Python...         May 1, 2019   \n",
       "9  Clarifying the Issues with Mutable Default Arg...      April 24, 2019   \n",
       "\n",
       "                                             Content  \\\n",
       "0  \\nIn this video, we will be learning how to cr...   \n",
       "1  \\nIn this Python Programming video, we will be...   \n",
       "2  \\nIn this Python Programming video, we will be...   \n",
       "3  \\nIn this Python Programming video, we will be...   \n",
       "4  \\nHey everyone. I wanted to give you an update...   \n",
       "5  \\nIn this Python Programming Tutorial, we will...   \n",
       "6  \\nIn this Python Programming Tutorial, we will...   \n",
       "7  \\nIn this Python Programming Tutorial, we will...   \n",
       "8  \\nIn this Python Programming Tutorial, we will...   \n",
       "9  \\nIn this Python Programming Tutorial, we will...   \n",
       "\n",
       "                                           Video URL  \n",
       "0  https://www.youtube.com/embed/z0gguhEmWiY?vers...  \n",
       "1  https://www.youtube.com/embed/_P7X8tMplsw?vers...  \n",
       "2  https://www.youtube.com/embed/fKl2JW_qrso?vers...  \n",
       "3  https://www.youtube.com/embed/IEEhzQoKtQU?vers...  \n",
       "4  https://www.youtube.com/embed/mO_dS3rXDIs?vers...  \n",
       "5  https://www.youtube.com/embed/2Fp1N6dof0Y?vers...  \n",
       "6  https://www.youtube.com/embed/-nh9rCzPJ20?vers...  \n",
       "7  https://www.youtube.com/embed/06I63_p-2A4?vers...  \n",
       "8  https://www.youtube.com/embed/_JGmemuINww?vers...  \n",
       "9                                                NaN  "
      ]
     },
     "execution_count": 28,
     "metadata": {},
     "output_type": "execute_result"
    }
   ],
   "source": [
    "cms_df"
   ]
  },
  {
   "cell_type": "markdown",
   "id": "9f335ee9",
   "metadata": {},
   "source": [
    "# 7. Python program to scrape house details from mentioned URL. It should include house title, location, area, EMI and price from nobroker.in."
   ]
  },
  {
   "cell_type": "code",
   "execution_count": null,
   "id": "3f3de32e",
   "metadata": {},
   "outputs": [],
   "source": [
    "nobroker_page = requests.get('https://www.nobroker.in/property/sale/bangalore/Electronic%20City?type=BHK4&searchParam=W3sibGF0IjoxMi44N%20DUyMTQ1LCJsb24iOjc3LjY2MDE2OTUsInBsYWNlSWQiOiJDaElKdy1GUWQ0cHNyanNSSGZkYXpnXzhYRW8%20iLCJwbGFjZU5hbWUiOiJFbGVjdHJvbmljIENpdHkifV0=&propertyAge=0&radius=2.0')\n",
    "nobroker_page"
   ]
  },
  {
   "cell_type": "code",
   "execution_count": null,
   "id": "d18d2ac9",
   "metadata": {},
   "outputs": [],
   "source": [
    "nobroker = BeautifulSoup(nobroker_page.content)"
   ]
  },
  {
   "cell_type": "code",
   "execution_count": null,
   "id": "9d6ef988",
   "metadata": {},
   "outputs": [],
   "source": [
    "title = []\n",
    "\n",
    "for i in nobroker.find_all('h2', class_ = 'heading-6 font-semi-bold nb__25Cl7'):\n",
    "    title.append(i.text)\n",
    "    \n",
    "title"
   ]
  },
  {
   "cell_type": "code",
   "execution_count": null,
   "id": "e009d2e5",
   "metadata": {},
   "outputs": [],
   "source": [
    "title_df = pd.DataFrame({'Title':title})\n",
    "title_df"
   ]
  },
  {
   "cell_type": "code",
   "execution_count": null,
   "id": "15618927",
   "metadata": {},
   "outputs": [],
   "source": [
    "location = []\n",
    "\n",
    "for i in nobroker.find_all('div', class_='nb__1EwQz'):\n",
    "    location.append(i.text)\n",
    "    \n",
    "location"
   ]
  },
  {
   "cell_type": "code",
   "execution_count": null,
   "id": "8ccd118f",
   "metadata": {},
   "outputs": [],
   "source": [
    "loc_df = pd.DataFrame({'Location':location})\n",
    "loc_df"
   ]
  },
  {
   "cell_type": "code",
   "execution_count": null,
   "id": "ad0b11e0",
   "metadata": {},
   "outputs": [],
   "source": [
    "area = []\n",
    "\n",
    "for i in nobroker.find_all('div', class_ = 'nb__FfHqA'):\n",
    "    area.append(i.text)\n",
    "    \n",
    "area"
   ]
  },
  {
   "cell_type": "code",
   "execution_count": null,
   "id": "22dcef1d",
   "metadata": {},
   "outputs": [],
   "source": [
    "data = []\n",
    "\n",
    "for i in nobroker.find_all('div', class_ = 'font-semi-bold heading-6'):\n",
    "    data.append(i.text)\n",
    "    \n",
    "data"
   ]
  },
  {
   "cell_type": "code",
   "execution_count": null,
   "id": "888ff6de",
   "metadata": {},
   "outputs": [],
   "source": [
    "data_df = pd.DataFrame({\"Data\":data})\n",
    "data_df"
   ]
  },
  {
   "cell_type": "code",
   "execution_count": null,
   "id": "a47007cd",
   "metadata": {},
   "outputs": [],
   "source": [
    "area_1 = data_df.drop(data_df.index[range(1,48,3)],axis=0)\n",
    "area_1"
   ]
  },
  {
   "cell_type": "code",
   "execution_count": null,
   "id": "926c1903",
   "metadata": {},
   "outputs": [],
   "source": [
    "area_df = area_1.drop(area_1.index[range(1,32,2)],axis=0)"
   ]
  },
  {
   "cell_type": "code",
   "execution_count": null,
   "id": "e3ab32fb",
   "metadata": {},
   "outputs": [],
   "source": [
    "area_df.reset_index(drop=True,inplace=True)"
   ]
  },
  {
   "cell_type": "code",
   "execution_count": null,
   "id": "4b62a8c0",
   "metadata": {},
   "outputs": [],
   "source": [
    "area_df.rename(columns={'Data':'Area'})"
   ]
  },
  {
   "cell_type": "code",
   "execution_count": null,
   "id": "62d2e6cd",
   "metadata": {},
   "outputs": [],
   "source": [
    "price_df = area_1.drop(area_1.index[range(0,32,2)],axis=0)\n",
    "price_df"
   ]
  },
  {
   "cell_type": "code",
   "execution_count": null,
   "id": "3e8d5c53",
   "metadata": {},
   "outputs": [],
   "source": [
    "price_df.reset_index(drop=True, inplace=True)"
   ]
  },
  {
   "cell_type": "code",
   "execution_count": null,
   "id": "4c2b6f53",
   "metadata": {},
   "outputs": [],
   "source": [
    "price_df.rename(columns = {'Data':'Price'})"
   ]
  },
  {
   "cell_type": "code",
   "execution_count": null,
   "id": "c8abf397",
   "metadata": {},
   "outputs": [],
   "source": [
    "data_2 = data_df.drop(data_df.index[range(0,48,3)],axis=0)"
   ]
  },
  {
   "cell_type": "code",
   "execution_count": null,
   "id": "b496bde1",
   "metadata": {},
   "outputs": [],
   "source": [
    "data_2"
   ]
  },
  {
   "cell_type": "code",
   "execution_count": null,
   "id": "72cac694",
   "metadata": {},
   "outputs": [],
   "source": [
    "emi_df = data_2.drop(data_2.index[range(1,32,2)],axis=0)\n",
    "emi_df"
   ]
  },
  {
   "cell_type": "code",
   "execution_count": null,
   "id": "f3def1b8",
   "metadata": {},
   "outputs": [],
   "source": [
    "emi_df.reset_index(drop=True, inplace=True)"
   ]
  },
  {
   "cell_type": "code",
   "execution_count": null,
   "id": "ba108442",
   "metadata": {},
   "outputs": [],
   "source": [
    "emi_df"
   ]
  },
  {
   "cell_type": "code",
   "execution_count": null,
   "id": "795fcb5e",
   "metadata": {},
   "outputs": [],
   "source": [
    "nobroker_df = pd.concat([title_df,loc_df,area_df,price_df,emi_df],axis=1)\n",
    "nobroker_df"
   ]
  },
  {
   "cell_type": "markdown",
   "id": "d2f0edd4",
   "metadata": {},
   "source": [
    "# 8. Python program to scrape mentioned details from dineout.co.in :\n",
    "i) Restaurant name\n",
    "ii) Cuisine\n",
    "iii) Location\n",
    "iv) Ratings\n",
    "v) Image URL"
   ]
  },
  {
   "cell_type": "code",
   "execution_count": 3,
   "id": "d64e2378",
   "metadata": {},
   "outputs": [
    {
     "data": {
      "text/plain": [
       "<Response [200]>"
      ]
     },
     "execution_count": 3,
     "metadata": {},
     "output_type": "execute_result"
    }
   ],
   "source": [
    "dineout_page = requests.get('https://www.dineout.co.in/delhi-restaurants/buffet-special')\n",
    "dineout_page"
   ]
  },
  {
   "cell_type": "code",
   "execution_count": 4,
   "id": "d8c9a37a",
   "metadata": {},
   "outputs": [],
   "source": [
    "dine_soup = BeautifulSoup(dineout_page.content)"
   ]
  },
  {
   "cell_type": "code",
   "execution_count": 5,
   "id": "c149cc18",
   "metadata": {},
   "outputs": [
    {
     "data": {
      "text/plain": [
       "['Castle Barbeque',\n",
       " 'Jungle Jamboree',\n",
       " 'Castle Barbeque',\n",
       " 'Cafe Knosh',\n",
       " 'The Barbeque Company',\n",
       " 'India Grill',\n",
       " 'Delhi Barbeque',\n",
       " 'The Monarch - Bar Be Que Village',\n",
       " 'World Cafe',\n",
       " 'Indian Grill Room',\n",
       " 'Mad 4 Bar B Que',\n",
       " 'Barbeque 29',\n",
       " 'Glasshouse']"
      ]
     },
     "execution_count": 5,
     "metadata": {},
     "output_type": "execute_result"
    }
   ],
   "source": [
    "name = []\n",
    "\n",
    "for i in dine_soup('a', class_='restnt-name ellipsis'):\n",
    "    name.append(i.text)\n",
    "    \n",
    "name"
   ]
  },
  {
   "cell_type": "code",
   "execution_count": 6,
   "id": "979f7647",
   "metadata": {},
   "outputs": [
    {
     "data": {
      "text/plain": [
       "['Connaught Place, Central Delhi',\n",
       " '3CS Mall,Lajpat Nagar - 3, South Delhi',\n",
       " 'Pacific Mall,Tagore Garden, West Delhi',\n",
       " 'The Leela Ambience Convention Hotel,Shahdara, East Delhi',\n",
       " 'Gardens Galleria,Sector 38A, Noida',\n",
       " 'Hilton Garden Inn,Saket, South Delhi',\n",
       " 'Taurus Sarovar Portico,Mahipalpur, South Delhi',\n",
       " 'Indirapuram Habitat Centre,Indirapuram, Ghaziabad',\n",
       " 'Vibe by The Lalit Traveller,Sector 35, Faridabad',\n",
       " 'Suncity Business Tower,Golf Course Road, Gurgaon',\n",
       " 'Sector 29, Faridabad',\n",
       " 'NIT, Faridabad',\n",
       " 'DoubleTree By Hilton Gurugram Baani Square,Sector 50, Gurgaon']"
      ]
     },
     "execution_count": 6,
     "metadata": {},
     "output_type": "execute_result"
    }
   ],
   "source": [
    "loc = []\n",
    "\n",
    "for i in dine_soup('div', class_ = 'restnt-loc ellipsis'):\n",
    "    loc.append(i.text)\n",
    "    \n",
    "loc"
   ]
  },
  {
   "cell_type": "code",
   "execution_count": 10,
   "id": "9ab7ce1b",
   "metadata": {},
   "outputs": [
    {
     "data": {
      "text/plain": [
       "[' Chinese, North Indian',\n",
       " ' North Indian, Barbecue, Italian, Asian',\n",
       " ' North Indian, Chinese',\n",
       " ' Multi-Cuisine, North Indian, Italian, Continental, Mediterranean',\n",
       " ' Barbecue, Chinese, Mughlai, North Indian',\n",
       " ' North Indian, Italian, Oriental ',\n",
       " ' Barbecue, North Indian',\n",
       " ' North Indian, Chinese, Fast Food',\n",
       " ' North Indian, Chinese, Continental',\n",
       " ' North Indian, Mughlai, Barbecue',\n",
       " ' North Indian, Mughlai',\n",
       " ' North Indian, Chinese, Barbecue',\n",
       " ' Multi-Cuisine, Asian, European, Italian, North Indian']"
      ]
     },
     "execution_count": 10,
     "metadata": {},
     "output_type": "execute_result"
    }
   ],
   "source": [
    "cui = []\n",
    "\n",
    "for i in dine_soup('span', class_='double-line-ellipsis'):\n",
    "    cui.append(i.text.split('|')[1])\n",
    "    \n",
    "cui"
   ]
  },
  {
   "cell_type": "code",
   "execution_count": 11,
   "id": "9d1b6d8a",
   "metadata": {},
   "outputs": [
    {
     "data": {
      "text/plain": [
       "['3.5',\n",
       " '3.9',\n",
       " '4',\n",
       " '4.3',\n",
       " '4.1',\n",
       " '3.9',\n",
       " '3.6',\n",
       " '3.9',\n",
       " '4.2',\n",
       " '4.3',\n",
       " '3.9',\n",
       " '4.2',\n",
       " '4.1']"
      ]
     },
     "execution_count": 11,
     "metadata": {},
     "output_type": "execute_result"
    }
   ],
   "source": [
    "rating = []\n",
    "\n",
    "for i in dine_soup('div', class_='restnt-rating rating-4'):\n",
    "    rating.append(i.text)\n",
    "\n",
    "rating"
   ]
  },
  {
   "cell_type": "code",
   "execution_count": 14,
   "id": "e5b7bcda",
   "metadata": {},
   "outputs": [
    {
     "data": {
      "text/plain": [
       "['https://im1.dineout.co.in/images/uploads/restaurant/sharpen/8/k/b/p86792-16062953735fbe1f4d3fb7e.jpg?tr=tr:n-medium',\n",
       " 'https://im1.dineout.co.in/images/uploads/restaurant/sharpen/5/a/k/p59633-16046474755fa4fa33c0e92.jpg?tr=tr:n-medium',\n",
       " 'https://im1.dineout.co.in/images/uploads/restaurant/sharpen/3/j/o/p38113-15959192065f1fcb666130c.jpg?tr=tr:n-medium',\n",
       " 'https://im1.dineout.co.in/images/uploads/restaurant/sharpen/4/j/v/p406-163401663361651d79326d0.jpg?tr=tr:n-medium',\n",
       " 'https://im1.dineout.co.in/images/uploads/restaurant/sharpen/7/q/d/p79307-16051787075fad15532bd7c.jpg?tr=tr:n-medium',\n",
       " 'https://im1.dineout.co.in/images/uploads/restaurant/sharpen/2/v/t/p2687-1482477169585cce712b90f.jpg?tr=tr:n-medium',\n",
       " 'https://im1.dineout.co.in/images/uploads/restaurant/sharpen/5/v/f/p52501-16006856545f68865616659.jpg?tr=tr:n-medium',\n",
       " 'https://im1.dineout.co.in/images/uploads/restaurant/sharpen/3/n/o/p34822-15599107305cfa594a13c24.jpg?tr=tr:n-medium',\n",
       " 'https://im1.dineout.co.in/images/uploads/restaurant/sharpen/1/p/y/p12366-1466935020576fa6ecdc359.jpg?tr=tr:n-medium',\n",
       " 'https://im1.dineout.co.in/images/uploads/restaurant/sharpen/5/y/y/p549-15143767525a438e30b3e19.jpg?tr=tr:n-medium',\n",
       " 'https://im1.dineout.co.in/images/uploads/restaurant/sharpen/4/j/e/p43488-15295778165b2b8158ceeef.jpg?tr=tr:n-medium',\n",
       " 'https://im1.dineout.co.in/images/uploads/restaurant/sharpen/5/w/r/p58842-15624171585d209806d9143.jpg?tr=tr:n-medium',\n",
       " 'https://im1.dineout.co.in/images/uploads/restaurant/sharpen/9/m/f/p9875-16057921085fb6716cc44f8.jpg?tr=tr:n-medium']"
      ]
     },
     "execution_count": 14,
     "metadata": {},
     "output_type": "execute_result"
    }
   ],
   "source": [
    "img = []\n",
    "\n",
    "for i in dine_soup('img', class_='no-img'):\n",
    "    img.append(i['data-src'])\n",
    "    \n",
    "img"
   ]
  },
  {
   "cell_type": "code",
   "execution_count": 29,
   "id": "2350527a",
   "metadata": {},
   "outputs": [
    {
     "name": "stdout",
     "output_type": "stream",
     "text": [
      "13\n",
      "13\n",
      "13\n",
      "13\n",
      "13\n"
     ]
    }
   ],
   "source": [
    "print(len(name))\n",
    "print(len(loc))\n",
    "print(len(cui))\n",
    "print(len(rating))\n",
    "print(len(img))"
   ]
  },
  {
   "cell_type": "code",
   "execution_count": 30,
   "id": "4ca4aed3",
   "metadata": {},
   "outputs": [],
   "source": [
    "dineout = pd.DataFrame({'Restaurant Name':name,'Location':loc,'Cuisine':cui,'Rating':rating,'Images':img})"
   ]
  },
  {
   "cell_type": "code",
   "execution_count": 31,
   "id": "dfce5b32",
   "metadata": {},
   "outputs": [
    {
     "data": {
      "text/html": [
       "<div>\n",
       "<style scoped>\n",
       "    .dataframe tbody tr th:only-of-type {\n",
       "        vertical-align: middle;\n",
       "    }\n",
       "\n",
       "    .dataframe tbody tr th {\n",
       "        vertical-align: top;\n",
       "    }\n",
       "\n",
       "    .dataframe thead th {\n",
       "        text-align: right;\n",
       "    }\n",
       "</style>\n",
       "<table border=\"1\" class=\"dataframe\">\n",
       "  <thead>\n",
       "    <tr style=\"text-align: right;\">\n",
       "      <th></th>\n",
       "      <th>Restaurant Name</th>\n",
       "      <th>Location</th>\n",
       "      <th>Cuisine</th>\n",
       "      <th>Rating</th>\n",
       "      <th>Images</th>\n",
       "    </tr>\n",
       "  </thead>\n",
       "  <tbody>\n",
       "    <tr>\n",
       "      <th>0</th>\n",
       "      <td>Castle Barbeque</td>\n",
       "      <td>Connaught Place, Central Delhi</td>\n",
       "      <td>Chinese, North Indian</td>\n",
       "      <td>3.5</td>\n",
       "      <td>https://im1.dineout.co.in/images/uploads/resta...</td>\n",
       "    </tr>\n",
       "    <tr>\n",
       "      <th>1</th>\n",
       "      <td>Jungle Jamboree</td>\n",
       "      <td>3CS Mall,Lajpat Nagar - 3, South Delhi</td>\n",
       "      <td>North Indian, Barbecue, Italian, Asian</td>\n",
       "      <td>3.9</td>\n",
       "      <td>https://im1.dineout.co.in/images/uploads/resta...</td>\n",
       "    </tr>\n",
       "    <tr>\n",
       "      <th>2</th>\n",
       "      <td>Castle Barbeque</td>\n",
       "      <td>Pacific Mall,Tagore Garden, West Delhi</td>\n",
       "      <td>North Indian, Chinese</td>\n",
       "      <td>4</td>\n",
       "      <td>https://im1.dineout.co.in/images/uploads/resta...</td>\n",
       "    </tr>\n",
       "    <tr>\n",
       "      <th>3</th>\n",
       "      <td>Cafe Knosh</td>\n",
       "      <td>The Leela Ambience Convention Hotel,Shahdara, ...</td>\n",
       "      <td>Multi-Cuisine, North Indian, Italian, Contine...</td>\n",
       "      <td>4.3</td>\n",
       "      <td>https://im1.dineout.co.in/images/uploads/resta...</td>\n",
       "    </tr>\n",
       "    <tr>\n",
       "      <th>4</th>\n",
       "      <td>The Barbeque Company</td>\n",
       "      <td>Gardens Galleria,Sector 38A, Noida</td>\n",
       "      <td>Barbecue, Chinese, Mughlai, North Indian</td>\n",
       "      <td>4.1</td>\n",
       "      <td>https://im1.dineout.co.in/images/uploads/resta...</td>\n",
       "    </tr>\n",
       "    <tr>\n",
       "      <th>5</th>\n",
       "      <td>India Grill</td>\n",
       "      <td>Hilton Garden Inn,Saket, South Delhi</td>\n",
       "      <td>North Indian, Italian, Oriental</td>\n",
       "      <td>3.9</td>\n",
       "      <td>https://im1.dineout.co.in/images/uploads/resta...</td>\n",
       "    </tr>\n",
       "    <tr>\n",
       "      <th>6</th>\n",
       "      <td>Delhi Barbeque</td>\n",
       "      <td>Taurus Sarovar Portico,Mahipalpur, South Delhi</td>\n",
       "      <td>Barbecue, North Indian</td>\n",
       "      <td>3.6</td>\n",
       "      <td>https://im1.dineout.co.in/images/uploads/resta...</td>\n",
       "    </tr>\n",
       "    <tr>\n",
       "      <th>7</th>\n",
       "      <td>The Monarch - Bar Be Que Village</td>\n",
       "      <td>Indirapuram Habitat Centre,Indirapuram, Ghaziabad</td>\n",
       "      <td>North Indian, Chinese, Fast Food</td>\n",
       "      <td>3.9</td>\n",
       "      <td>https://im1.dineout.co.in/images/uploads/resta...</td>\n",
       "    </tr>\n",
       "    <tr>\n",
       "      <th>8</th>\n",
       "      <td>World Cafe</td>\n",
       "      <td>Vibe by The Lalit Traveller,Sector 35, Faridabad</td>\n",
       "      <td>North Indian, Chinese, Continental</td>\n",
       "      <td>4.2</td>\n",
       "      <td>https://im1.dineout.co.in/images/uploads/resta...</td>\n",
       "    </tr>\n",
       "    <tr>\n",
       "      <th>9</th>\n",
       "      <td>Indian Grill Room</td>\n",
       "      <td>Suncity Business Tower,Golf Course Road, Gurgaon</td>\n",
       "      <td>North Indian, Mughlai, Barbecue</td>\n",
       "      <td>4.3</td>\n",
       "      <td>https://im1.dineout.co.in/images/uploads/resta...</td>\n",
       "    </tr>\n",
       "    <tr>\n",
       "      <th>10</th>\n",
       "      <td>Mad 4 Bar B Que</td>\n",
       "      <td>Sector 29, Faridabad</td>\n",
       "      <td>North Indian, Mughlai</td>\n",
       "      <td>3.9</td>\n",
       "      <td>https://im1.dineout.co.in/images/uploads/resta...</td>\n",
       "    </tr>\n",
       "    <tr>\n",
       "      <th>11</th>\n",
       "      <td>Barbeque 29</td>\n",
       "      <td>NIT, Faridabad</td>\n",
       "      <td>North Indian, Chinese, Barbecue</td>\n",
       "      <td>4.2</td>\n",
       "      <td>https://im1.dineout.co.in/images/uploads/resta...</td>\n",
       "    </tr>\n",
       "    <tr>\n",
       "      <th>12</th>\n",
       "      <td>Glasshouse</td>\n",
       "      <td>DoubleTree By Hilton Gurugram Baani Square,Sec...</td>\n",
       "      <td>Multi-Cuisine, Asian, European, Italian, Nort...</td>\n",
       "      <td>4.1</td>\n",
       "      <td>https://im1.dineout.co.in/images/uploads/resta...</td>\n",
       "    </tr>\n",
       "  </tbody>\n",
       "</table>\n",
       "</div>"
      ],
      "text/plain": [
       "                     Restaurant Name  \\\n",
       "0                    Castle Barbeque   \n",
       "1                    Jungle Jamboree   \n",
       "2                    Castle Barbeque   \n",
       "3                         Cafe Knosh   \n",
       "4               The Barbeque Company   \n",
       "5                        India Grill   \n",
       "6                     Delhi Barbeque   \n",
       "7   The Monarch - Bar Be Que Village   \n",
       "8                         World Cafe   \n",
       "9                  Indian Grill Room   \n",
       "10                   Mad 4 Bar B Que   \n",
       "11                       Barbeque 29   \n",
       "12                        Glasshouse   \n",
       "\n",
       "                                             Location  \\\n",
       "0                      Connaught Place, Central Delhi   \n",
       "1              3CS Mall,Lajpat Nagar - 3, South Delhi   \n",
       "2              Pacific Mall,Tagore Garden, West Delhi   \n",
       "3   The Leela Ambience Convention Hotel,Shahdara, ...   \n",
       "4                  Gardens Galleria,Sector 38A, Noida   \n",
       "5                Hilton Garden Inn,Saket, South Delhi   \n",
       "6      Taurus Sarovar Portico,Mahipalpur, South Delhi   \n",
       "7   Indirapuram Habitat Centre,Indirapuram, Ghaziabad   \n",
       "8    Vibe by The Lalit Traveller,Sector 35, Faridabad   \n",
       "9    Suncity Business Tower,Golf Course Road, Gurgaon   \n",
       "10                               Sector 29, Faridabad   \n",
       "11                                     NIT, Faridabad   \n",
       "12  DoubleTree By Hilton Gurugram Baani Square,Sec...   \n",
       "\n",
       "                                              Cuisine Rating  \\\n",
       "0                               Chinese, North Indian    3.5   \n",
       "1              North Indian, Barbecue, Italian, Asian    3.9   \n",
       "2                               North Indian, Chinese      4   \n",
       "3    Multi-Cuisine, North Indian, Italian, Contine...    4.3   \n",
       "4            Barbecue, Chinese, Mughlai, North Indian    4.1   \n",
       "5                    North Indian, Italian, Oriental     3.9   \n",
       "6                              Barbecue, North Indian    3.6   \n",
       "7                    North Indian, Chinese, Fast Food    3.9   \n",
       "8                  North Indian, Chinese, Continental    4.2   \n",
       "9                     North Indian, Mughlai, Barbecue    4.3   \n",
       "10                              North Indian, Mughlai    3.9   \n",
       "11                    North Indian, Chinese, Barbecue    4.2   \n",
       "12   Multi-Cuisine, Asian, European, Italian, Nort...    4.1   \n",
       "\n",
       "                                               Images  \n",
       "0   https://im1.dineout.co.in/images/uploads/resta...  \n",
       "1   https://im1.dineout.co.in/images/uploads/resta...  \n",
       "2   https://im1.dineout.co.in/images/uploads/resta...  \n",
       "3   https://im1.dineout.co.in/images/uploads/resta...  \n",
       "4   https://im1.dineout.co.in/images/uploads/resta...  \n",
       "5   https://im1.dineout.co.in/images/uploads/resta...  \n",
       "6   https://im1.dineout.co.in/images/uploads/resta...  \n",
       "7   https://im1.dineout.co.in/images/uploads/resta...  \n",
       "8   https://im1.dineout.co.in/images/uploads/resta...  \n",
       "9   https://im1.dineout.co.in/images/uploads/resta...  \n",
       "10  https://im1.dineout.co.in/images/uploads/resta...  \n",
       "11  https://im1.dineout.co.in/images/uploads/resta...  \n",
       "12  https://im1.dineout.co.in/images/uploads/resta...  "
      ]
     },
     "execution_count": 31,
     "metadata": {},
     "output_type": "execute_result"
    }
   ],
   "source": [
    "dineout"
   ]
  },
  {
   "cell_type": "markdown",
   "id": "ef152953",
   "metadata": {},
   "source": [
    "# 9. Python program to scrape weather details for last 24 hours from Tutiempo.net :\n",
    "i) Hour\n",
    "\n",
    "ii) Temperature\n",
    "\n",
    "iii) Wind\n",
    "\n",
    "iv) Weather condition\n",
    "\n",
    "v) Humidity\n",
    "\n",
    "vi) Pressure"
   ]
  },
  {
   "cell_type": "code",
   "execution_count": 4,
   "id": "15b14a9f",
   "metadata": {},
   "outputs": [
    {
     "ename": "SSLError",
     "evalue": "HTTPSConnectionPool(host='en.tutiempo.net', port=443): Max retries exceeded with url: /delhi.html?data=last-24-hours (Caused by SSLError(SSLCertVerificationError(1, '[SSL: CERTIFICATE_VERIFY_FAILED] certificate verify failed: unable to get local issuer certificate (_ssl.c:1125)')))",
     "output_type": "error",
     "traceback": [
      "\u001b[0;31m---------------------------------------------------------------------------\u001b[0m",
      "\u001b[0;31mSSLCertVerificationError\u001b[0m                  Traceback (most recent call last)",
      "\u001b[0;32m~/opt/anaconda3/lib/python3.8/site-packages/urllib3/connectionpool.py\u001b[0m in \u001b[0;36murlopen\u001b[0;34m(self, method, url, body, headers, retries, redirect, assert_same_host, timeout, pool_timeout, release_conn, chunked, body_pos, **response_kw)\u001b[0m\n\u001b[1;32m    698\u001b[0m             \u001b[0;31m# Make the request on the httplib connection object.\u001b[0m\u001b[0;34m\u001b[0m\u001b[0;34m\u001b[0m\u001b[0;34m\u001b[0m\u001b[0m\n\u001b[0;32m--> 699\u001b[0;31m             httplib_response = self._make_request(\n\u001b[0m\u001b[1;32m    700\u001b[0m                 \u001b[0mconn\u001b[0m\u001b[0;34m,\u001b[0m\u001b[0;34m\u001b[0m\u001b[0;34m\u001b[0m\u001b[0m\n",
      "\u001b[0;32m~/opt/anaconda3/lib/python3.8/site-packages/urllib3/connectionpool.py\u001b[0m in \u001b[0;36m_make_request\u001b[0;34m(self, conn, method, url, timeout, chunked, **httplib_request_kw)\u001b[0m\n\u001b[1;32m    381\u001b[0m         \u001b[0;32mtry\u001b[0m\u001b[0;34m:\u001b[0m\u001b[0;34m\u001b[0m\u001b[0;34m\u001b[0m\u001b[0m\n\u001b[0;32m--> 382\u001b[0;31m             \u001b[0mself\u001b[0m\u001b[0;34m.\u001b[0m\u001b[0m_validate_conn\u001b[0m\u001b[0;34m(\u001b[0m\u001b[0mconn\u001b[0m\u001b[0;34m)\u001b[0m\u001b[0;34m\u001b[0m\u001b[0;34m\u001b[0m\u001b[0m\n\u001b[0m\u001b[1;32m    383\u001b[0m         \u001b[0;32mexcept\u001b[0m \u001b[0;34m(\u001b[0m\u001b[0mSocketTimeout\u001b[0m\u001b[0;34m,\u001b[0m \u001b[0mBaseSSLError\u001b[0m\u001b[0;34m)\u001b[0m \u001b[0;32mas\u001b[0m \u001b[0me\u001b[0m\u001b[0;34m:\u001b[0m\u001b[0;34m\u001b[0m\u001b[0;34m\u001b[0m\u001b[0m\n",
      "\u001b[0;32m~/opt/anaconda3/lib/python3.8/site-packages/urllib3/connectionpool.py\u001b[0m in \u001b[0;36m_validate_conn\u001b[0;34m(self, conn)\u001b[0m\n\u001b[1;32m   1009\u001b[0m         \u001b[0;32mif\u001b[0m \u001b[0;32mnot\u001b[0m \u001b[0mgetattr\u001b[0m\u001b[0;34m(\u001b[0m\u001b[0mconn\u001b[0m\u001b[0;34m,\u001b[0m \u001b[0;34m\"sock\"\u001b[0m\u001b[0;34m,\u001b[0m \u001b[0;32mNone\u001b[0m\u001b[0;34m)\u001b[0m\u001b[0;34m:\u001b[0m  \u001b[0;31m# AppEngine might not have  `.sock`\u001b[0m\u001b[0;34m\u001b[0m\u001b[0;34m\u001b[0m\u001b[0m\n\u001b[0;32m-> 1010\u001b[0;31m             \u001b[0mconn\u001b[0m\u001b[0;34m.\u001b[0m\u001b[0mconnect\u001b[0m\u001b[0;34m(\u001b[0m\u001b[0;34m)\u001b[0m\u001b[0;34m\u001b[0m\u001b[0;34m\u001b[0m\u001b[0m\n\u001b[0m\u001b[1;32m   1011\u001b[0m \u001b[0;34m\u001b[0m\u001b[0m\n",
      "\u001b[0;32m~/opt/anaconda3/lib/python3.8/site-packages/urllib3/connection.py\u001b[0m in \u001b[0;36mconnect\u001b[0;34m(self)\u001b[0m\n\u001b[1;32m    410\u001b[0m \u001b[0;34m\u001b[0m\u001b[0m\n\u001b[0;32m--> 411\u001b[0;31m         self.sock = ssl_wrap_socket(\n\u001b[0m\u001b[1;32m    412\u001b[0m             \u001b[0msock\u001b[0m\u001b[0;34m=\u001b[0m\u001b[0mconn\u001b[0m\u001b[0;34m,\u001b[0m\u001b[0;34m\u001b[0m\u001b[0;34m\u001b[0m\u001b[0m\n",
      "\u001b[0;32m~/opt/anaconda3/lib/python3.8/site-packages/urllib3/util/ssl_.py\u001b[0m in \u001b[0;36mssl_wrap_socket\u001b[0;34m(sock, keyfile, certfile, cert_reqs, ca_certs, server_hostname, ssl_version, ciphers, ssl_context, ca_cert_dir, key_password, ca_cert_data, tls_in_tls)\u001b[0m\n\u001b[1;32m    427\u001b[0m     \u001b[0;32mif\u001b[0m \u001b[0msend_sni\u001b[0m\u001b[0;34m:\u001b[0m\u001b[0;34m\u001b[0m\u001b[0;34m\u001b[0m\u001b[0m\n\u001b[0;32m--> 428\u001b[0;31m         ssl_sock = _ssl_wrap_socket_impl(\n\u001b[0m\u001b[1;32m    429\u001b[0m             \u001b[0msock\u001b[0m\u001b[0;34m,\u001b[0m \u001b[0mcontext\u001b[0m\u001b[0;34m,\u001b[0m \u001b[0mtls_in_tls\u001b[0m\u001b[0;34m,\u001b[0m \u001b[0mserver_hostname\u001b[0m\u001b[0;34m=\u001b[0m\u001b[0mserver_hostname\u001b[0m\u001b[0;34m\u001b[0m\u001b[0;34m\u001b[0m\u001b[0m\n",
      "\u001b[0;32m~/opt/anaconda3/lib/python3.8/site-packages/urllib3/util/ssl_.py\u001b[0m in \u001b[0;36m_ssl_wrap_socket_impl\u001b[0;34m(sock, ssl_context, tls_in_tls, server_hostname)\u001b[0m\n\u001b[1;32m    471\u001b[0m     \u001b[0;32mif\u001b[0m \u001b[0mserver_hostname\u001b[0m\u001b[0;34m:\u001b[0m\u001b[0;34m\u001b[0m\u001b[0;34m\u001b[0m\u001b[0m\n\u001b[0;32m--> 472\u001b[0;31m         \u001b[0;32mreturn\u001b[0m \u001b[0mssl_context\u001b[0m\u001b[0;34m.\u001b[0m\u001b[0mwrap_socket\u001b[0m\u001b[0;34m(\u001b[0m\u001b[0msock\u001b[0m\u001b[0;34m,\u001b[0m \u001b[0mserver_hostname\u001b[0m\u001b[0;34m=\u001b[0m\u001b[0mserver_hostname\u001b[0m\u001b[0;34m)\u001b[0m\u001b[0;34m\u001b[0m\u001b[0;34m\u001b[0m\u001b[0m\n\u001b[0m\u001b[1;32m    473\u001b[0m     \u001b[0;32melse\u001b[0m\u001b[0;34m:\u001b[0m\u001b[0;34m\u001b[0m\u001b[0;34m\u001b[0m\u001b[0m\n",
      "\u001b[0;32m~/opt/anaconda3/lib/python3.8/ssl.py\u001b[0m in \u001b[0;36mwrap_socket\u001b[0;34m(self, sock, server_side, do_handshake_on_connect, suppress_ragged_eofs, server_hostname, session)\u001b[0m\n\u001b[1;32m    499\u001b[0m         \u001b[0;31m# ctx._wrap_socket()\u001b[0m\u001b[0;34m\u001b[0m\u001b[0;34m\u001b[0m\u001b[0;34m\u001b[0m\u001b[0m\n\u001b[0;32m--> 500\u001b[0;31m         return self.sslsocket_class._create(\n\u001b[0m\u001b[1;32m    501\u001b[0m             \u001b[0msock\u001b[0m\u001b[0;34m=\u001b[0m\u001b[0msock\u001b[0m\u001b[0;34m,\u001b[0m\u001b[0;34m\u001b[0m\u001b[0;34m\u001b[0m\u001b[0m\n",
      "\u001b[0;32m~/opt/anaconda3/lib/python3.8/ssl.py\u001b[0m in \u001b[0;36m_create\u001b[0;34m(cls, sock, server_side, do_handshake_on_connect, suppress_ragged_eofs, server_hostname, context, session)\u001b[0m\n\u001b[1;32m   1039\u001b[0m                         \u001b[0;32mraise\u001b[0m \u001b[0mValueError\u001b[0m\u001b[0;34m(\u001b[0m\u001b[0;34m\"do_handshake_on_connect should not be specified for non-blocking sockets\"\u001b[0m\u001b[0;34m)\u001b[0m\u001b[0;34m\u001b[0m\u001b[0;34m\u001b[0m\u001b[0m\n\u001b[0;32m-> 1040\u001b[0;31m                     \u001b[0mself\u001b[0m\u001b[0;34m.\u001b[0m\u001b[0mdo_handshake\u001b[0m\u001b[0;34m(\u001b[0m\u001b[0;34m)\u001b[0m\u001b[0;34m\u001b[0m\u001b[0;34m\u001b[0m\u001b[0m\n\u001b[0m\u001b[1;32m   1041\u001b[0m             \u001b[0;32mexcept\u001b[0m \u001b[0;34m(\u001b[0m\u001b[0mOSError\u001b[0m\u001b[0;34m,\u001b[0m \u001b[0mValueError\u001b[0m\u001b[0;34m)\u001b[0m\u001b[0;34m:\u001b[0m\u001b[0;34m\u001b[0m\u001b[0;34m\u001b[0m\u001b[0m\n",
      "\u001b[0;32m~/opt/anaconda3/lib/python3.8/ssl.py\u001b[0m in \u001b[0;36mdo_handshake\u001b[0;34m(self, block)\u001b[0m\n\u001b[1;32m   1308\u001b[0m                 \u001b[0mself\u001b[0m\u001b[0;34m.\u001b[0m\u001b[0msettimeout\u001b[0m\u001b[0;34m(\u001b[0m\u001b[0;32mNone\u001b[0m\u001b[0;34m)\u001b[0m\u001b[0;34m\u001b[0m\u001b[0;34m\u001b[0m\u001b[0m\n\u001b[0;32m-> 1309\u001b[0;31m             \u001b[0mself\u001b[0m\u001b[0;34m.\u001b[0m\u001b[0m_sslobj\u001b[0m\u001b[0;34m.\u001b[0m\u001b[0mdo_handshake\u001b[0m\u001b[0;34m(\u001b[0m\u001b[0;34m)\u001b[0m\u001b[0;34m\u001b[0m\u001b[0;34m\u001b[0m\u001b[0m\n\u001b[0m\u001b[1;32m   1310\u001b[0m         \u001b[0;32mfinally\u001b[0m\u001b[0;34m:\u001b[0m\u001b[0;34m\u001b[0m\u001b[0;34m\u001b[0m\u001b[0m\n",
      "\u001b[0;31mSSLCertVerificationError\u001b[0m: [SSL: CERTIFICATE_VERIFY_FAILED] certificate verify failed: unable to get local issuer certificate (_ssl.c:1125)",
      "\nDuring handling of the above exception, another exception occurred:\n",
      "\u001b[0;31mMaxRetryError\u001b[0m                             Traceback (most recent call last)",
      "\u001b[0;32m~/opt/anaconda3/lib/python3.8/site-packages/requests/adapters.py\u001b[0m in \u001b[0;36msend\u001b[0;34m(self, request, stream, timeout, verify, cert, proxies)\u001b[0m\n\u001b[1;32m    438\u001b[0m             \u001b[0;32mif\u001b[0m \u001b[0;32mnot\u001b[0m \u001b[0mchunked\u001b[0m\u001b[0;34m:\u001b[0m\u001b[0;34m\u001b[0m\u001b[0;34m\u001b[0m\u001b[0m\n\u001b[0;32m--> 439\u001b[0;31m                 resp = conn.urlopen(\n\u001b[0m\u001b[1;32m    440\u001b[0m                     \u001b[0mmethod\u001b[0m\u001b[0;34m=\u001b[0m\u001b[0mrequest\u001b[0m\u001b[0;34m.\u001b[0m\u001b[0mmethod\u001b[0m\u001b[0;34m,\u001b[0m\u001b[0;34m\u001b[0m\u001b[0;34m\u001b[0m\u001b[0m\n",
      "\u001b[0;32m~/opt/anaconda3/lib/python3.8/site-packages/urllib3/connectionpool.py\u001b[0m in \u001b[0;36murlopen\u001b[0;34m(self, method, url, body, headers, retries, redirect, assert_same_host, timeout, pool_timeout, release_conn, chunked, body_pos, **response_kw)\u001b[0m\n\u001b[1;32m    754\u001b[0m \u001b[0;34m\u001b[0m\u001b[0m\n\u001b[0;32m--> 755\u001b[0;31m             retries = retries.increment(\n\u001b[0m\u001b[1;32m    756\u001b[0m                 \u001b[0mmethod\u001b[0m\u001b[0;34m,\u001b[0m \u001b[0murl\u001b[0m\u001b[0;34m,\u001b[0m \u001b[0merror\u001b[0m\u001b[0;34m=\u001b[0m\u001b[0me\u001b[0m\u001b[0;34m,\u001b[0m \u001b[0m_pool\u001b[0m\u001b[0;34m=\u001b[0m\u001b[0mself\u001b[0m\u001b[0;34m,\u001b[0m \u001b[0m_stacktrace\u001b[0m\u001b[0;34m=\u001b[0m\u001b[0msys\u001b[0m\u001b[0;34m.\u001b[0m\u001b[0mexc_info\u001b[0m\u001b[0;34m(\u001b[0m\u001b[0;34m)\u001b[0m\u001b[0;34m[\u001b[0m\u001b[0;36m2\u001b[0m\u001b[0;34m]\u001b[0m\u001b[0;34m\u001b[0m\u001b[0;34m\u001b[0m\u001b[0m\n",
      "\u001b[0;32m~/opt/anaconda3/lib/python3.8/site-packages/urllib3/util/retry.py\u001b[0m in \u001b[0;36mincrement\u001b[0;34m(self, method, url, response, error, _pool, _stacktrace)\u001b[0m\n\u001b[1;32m    573\u001b[0m         \u001b[0;32mif\u001b[0m \u001b[0mnew_retry\u001b[0m\u001b[0;34m.\u001b[0m\u001b[0mis_exhausted\u001b[0m\u001b[0;34m(\u001b[0m\u001b[0;34m)\u001b[0m\u001b[0;34m:\u001b[0m\u001b[0;34m\u001b[0m\u001b[0;34m\u001b[0m\u001b[0m\n\u001b[0;32m--> 574\u001b[0;31m             \u001b[0;32mraise\u001b[0m \u001b[0mMaxRetryError\u001b[0m\u001b[0;34m(\u001b[0m\u001b[0m_pool\u001b[0m\u001b[0;34m,\u001b[0m \u001b[0murl\u001b[0m\u001b[0;34m,\u001b[0m \u001b[0merror\u001b[0m \u001b[0;32mor\u001b[0m \u001b[0mResponseError\u001b[0m\u001b[0;34m(\u001b[0m\u001b[0mcause\u001b[0m\u001b[0;34m)\u001b[0m\u001b[0;34m)\u001b[0m\u001b[0;34m\u001b[0m\u001b[0;34m\u001b[0m\u001b[0m\n\u001b[0m\u001b[1;32m    575\u001b[0m \u001b[0;34m\u001b[0m\u001b[0m\n",
      "\u001b[0;31mMaxRetryError\u001b[0m: HTTPSConnectionPool(host='en.tutiempo.net', port=443): Max retries exceeded with url: /delhi.html?data=last-24-hours (Caused by SSLError(SSLCertVerificationError(1, '[SSL: CERTIFICATE_VERIFY_FAILED] certificate verify failed: unable to get local issuer certificate (_ssl.c:1125)')))",
      "\nDuring handling of the above exception, another exception occurred:\n",
      "\u001b[0;31mSSLError\u001b[0m                                  Traceback (most recent call last)",
      "\u001b[0;32m<ipython-input-4-642c4ab176b1>\u001b[0m in \u001b[0;36m<module>\u001b[0;34m\u001b[0m\n\u001b[0;32m----> 1\u001b[0;31m \u001b[0mtut_page\u001b[0m \u001b[0;34m=\u001b[0m \u001b[0mrequests\u001b[0m\u001b[0;34m.\u001b[0m\u001b[0mget\u001b[0m\u001b[0;34m(\u001b[0m\u001b[0;34m'https://en.tutiempo.net/delhi.html?data=last-24-hours'\u001b[0m\u001b[0;34m)\u001b[0m\u001b[0;34m\u001b[0m\u001b[0;34m\u001b[0m\u001b[0m\n\u001b[0m",
      "\u001b[0;32m~/opt/anaconda3/lib/python3.8/site-packages/requests/api.py\u001b[0m in \u001b[0;36mget\u001b[0;34m(url, params, **kwargs)\u001b[0m\n\u001b[1;32m     74\u001b[0m \u001b[0;34m\u001b[0m\u001b[0m\n\u001b[1;32m     75\u001b[0m     \u001b[0mkwargs\u001b[0m\u001b[0;34m.\u001b[0m\u001b[0msetdefault\u001b[0m\u001b[0;34m(\u001b[0m\u001b[0;34m'allow_redirects'\u001b[0m\u001b[0;34m,\u001b[0m \u001b[0;32mTrue\u001b[0m\u001b[0;34m)\u001b[0m\u001b[0;34m\u001b[0m\u001b[0;34m\u001b[0m\u001b[0m\n\u001b[0;32m---> 76\u001b[0;31m     \u001b[0;32mreturn\u001b[0m \u001b[0mrequest\u001b[0m\u001b[0;34m(\u001b[0m\u001b[0;34m'get'\u001b[0m\u001b[0;34m,\u001b[0m \u001b[0murl\u001b[0m\u001b[0;34m,\u001b[0m \u001b[0mparams\u001b[0m\u001b[0;34m=\u001b[0m\u001b[0mparams\u001b[0m\u001b[0;34m,\u001b[0m \u001b[0;34m**\u001b[0m\u001b[0mkwargs\u001b[0m\u001b[0;34m)\u001b[0m\u001b[0;34m\u001b[0m\u001b[0;34m\u001b[0m\u001b[0m\n\u001b[0m\u001b[1;32m     77\u001b[0m \u001b[0;34m\u001b[0m\u001b[0m\n\u001b[1;32m     78\u001b[0m \u001b[0;34m\u001b[0m\u001b[0m\n",
      "\u001b[0;32m~/opt/anaconda3/lib/python3.8/site-packages/requests/api.py\u001b[0m in \u001b[0;36mrequest\u001b[0;34m(method, url, **kwargs)\u001b[0m\n\u001b[1;32m     59\u001b[0m     \u001b[0;31m# cases, and look like a memory leak in others.\u001b[0m\u001b[0;34m\u001b[0m\u001b[0;34m\u001b[0m\u001b[0;34m\u001b[0m\u001b[0m\n\u001b[1;32m     60\u001b[0m     \u001b[0;32mwith\u001b[0m \u001b[0msessions\u001b[0m\u001b[0;34m.\u001b[0m\u001b[0mSession\u001b[0m\u001b[0;34m(\u001b[0m\u001b[0;34m)\u001b[0m \u001b[0;32mas\u001b[0m \u001b[0msession\u001b[0m\u001b[0;34m:\u001b[0m\u001b[0;34m\u001b[0m\u001b[0;34m\u001b[0m\u001b[0m\n\u001b[0;32m---> 61\u001b[0;31m         \u001b[0;32mreturn\u001b[0m \u001b[0msession\u001b[0m\u001b[0;34m.\u001b[0m\u001b[0mrequest\u001b[0m\u001b[0;34m(\u001b[0m\u001b[0mmethod\u001b[0m\u001b[0;34m=\u001b[0m\u001b[0mmethod\u001b[0m\u001b[0;34m,\u001b[0m \u001b[0murl\u001b[0m\u001b[0;34m=\u001b[0m\u001b[0murl\u001b[0m\u001b[0;34m,\u001b[0m \u001b[0;34m**\u001b[0m\u001b[0mkwargs\u001b[0m\u001b[0;34m)\u001b[0m\u001b[0;34m\u001b[0m\u001b[0;34m\u001b[0m\u001b[0m\n\u001b[0m\u001b[1;32m     62\u001b[0m \u001b[0;34m\u001b[0m\u001b[0m\n\u001b[1;32m     63\u001b[0m \u001b[0;34m\u001b[0m\u001b[0m\n",
      "\u001b[0;32m~/opt/anaconda3/lib/python3.8/site-packages/requests/sessions.py\u001b[0m in \u001b[0;36mrequest\u001b[0;34m(self, method, url, params, data, headers, cookies, files, auth, timeout, allow_redirects, proxies, hooks, stream, verify, cert, json)\u001b[0m\n\u001b[1;32m    540\u001b[0m         }\n\u001b[1;32m    541\u001b[0m         \u001b[0msend_kwargs\u001b[0m\u001b[0;34m.\u001b[0m\u001b[0mupdate\u001b[0m\u001b[0;34m(\u001b[0m\u001b[0msettings\u001b[0m\u001b[0;34m)\u001b[0m\u001b[0;34m\u001b[0m\u001b[0;34m\u001b[0m\u001b[0m\n\u001b[0;32m--> 542\u001b[0;31m         \u001b[0mresp\u001b[0m \u001b[0;34m=\u001b[0m \u001b[0mself\u001b[0m\u001b[0;34m.\u001b[0m\u001b[0msend\u001b[0m\u001b[0;34m(\u001b[0m\u001b[0mprep\u001b[0m\u001b[0;34m,\u001b[0m \u001b[0;34m**\u001b[0m\u001b[0msend_kwargs\u001b[0m\u001b[0;34m)\u001b[0m\u001b[0;34m\u001b[0m\u001b[0;34m\u001b[0m\u001b[0m\n\u001b[0m\u001b[1;32m    543\u001b[0m \u001b[0;34m\u001b[0m\u001b[0m\n\u001b[1;32m    544\u001b[0m         \u001b[0;32mreturn\u001b[0m \u001b[0mresp\u001b[0m\u001b[0;34m\u001b[0m\u001b[0;34m\u001b[0m\u001b[0m\n",
      "\u001b[0;32m~/opt/anaconda3/lib/python3.8/site-packages/requests/sessions.py\u001b[0m in \u001b[0;36msend\u001b[0;34m(self, request, **kwargs)\u001b[0m\n\u001b[1;32m    653\u001b[0m \u001b[0;34m\u001b[0m\u001b[0m\n\u001b[1;32m    654\u001b[0m         \u001b[0;31m# Send the request\u001b[0m\u001b[0;34m\u001b[0m\u001b[0;34m\u001b[0m\u001b[0;34m\u001b[0m\u001b[0m\n\u001b[0;32m--> 655\u001b[0;31m         \u001b[0mr\u001b[0m \u001b[0;34m=\u001b[0m \u001b[0madapter\u001b[0m\u001b[0;34m.\u001b[0m\u001b[0msend\u001b[0m\u001b[0;34m(\u001b[0m\u001b[0mrequest\u001b[0m\u001b[0;34m,\u001b[0m \u001b[0;34m**\u001b[0m\u001b[0mkwargs\u001b[0m\u001b[0;34m)\u001b[0m\u001b[0;34m\u001b[0m\u001b[0;34m\u001b[0m\u001b[0m\n\u001b[0m\u001b[1;32m    656\u001b[0m \u001b[0;34m\u001b[0m\u001b[0m\n\u001b[1;32m    657\u001b[0m         \u001b[0;31m# Total elapsed time of the request (approximately)\u001b[0m\u001b[0;34m\u001b[0m\u001b[0;34m\u001b[0m\u001b[0;34m\u001b[0m\u001b[0m\n",
      "\u001b[0;32m~/opt/anaconda3/lib/python3.8/site-packages/requests/adapters.py\u001b[0m in \u001b[0;36msend\u001b[0;34m(self, request, stream, timeout, verify, cert, proxies)\u001b[0m\n\u001b[1;32m    512\u001b[0m             \u001b[0;32mif\u001b[0m \u001b[0misinstance\u001b[0m\u001b[0;34m(\u001b[0m\u001b[0me\u001b[0m\u001b[0;34m.\u001b[0m\u001b[0mreason\u001b[0m\u001b[0;34m,\u001b[0m \u001b[0m_SSLError\u001b[0m\u001b[0;34m)\u001b[0m\u001b[0;34m:\u001b[0m\u001b[0;34m\u001b[0m\u001b[0;34m\u001b[0m\u001b[0m\n\u001b[1;32m    513\u001b[0m                 \u001b[0;31m# This branch is for urllib3 v1.22 and later.\u001b[0m\u001b[0;34m\u001b[0m\u001b[0;34m\u001b[0m\u001b[0;34m\u001b[0m\u001b[0m\n\u001b[0;32m--> 514\u001b[0;31m                 \u001b[0;32mraise\u001b[0m \u001b[0mSSLError\u001b[0m\u001b[0;34m(\u001b[0m\u001b[0me\u001b[0m\u001b[0;34m,\u001b[0m \u001b[0mrequest\u001b[0m\u001b[0;34m=\u001b[0m\u001b[0mrequest\u001b[0m\u001b[0;34m)\u001b[0m\u001b[0;34m\u001b[0m\u001b[0;34m\u001b[0m\u001b[0m\n\u001b[0m\u001b[1;32m    515\u001b[0m \u001b[0;34m\u001b[0m\u001b[0m\n\u001b[1;32m    516\u001b[0m             \u001b[0;32mraise\u001b[0m \u001b[0mConnectionError\u001b[0m\u001b[0;34m(\u001b[0m\u001b[0me\u001b[0m\u001b[0;34m,\u001b[0m \u001b[0mrequest\u001b[0m\u001b[0;34m=\u001b[0m\u001b[0mrequest\u001b[0m\u001b[0;34m)\u001b[0m\u001b[0;34m\u001b[0m\u001b[0;34m\u001b[0m\u001b[0m\n",
      "\u001b[0;31mSSLError\u001b[0m: HTTPSConnectionPool(host='en.tutiempo.net', port=443): Max retries exceeded with url: /delhi.html?data=last-24-hours (Caused by SSLError(SSLCertVerificationError(1, '[SSL: CERTIFICATE_VERIFY_FAILED] certificate verify failed: unable to get local issuer certificate (_ssl.c:1125)')))"
     ]
    }
   ],
   "source": [
    "tut_page = requests.get('https://en.tutiempo.net/delhi.html?data=last-24-hours')"
   ]
  },
  {
   "cell_type": "code",
   "execution_count": 35,
   "id": "e0e6492b",
   "metadata": {},
   "outputs": [
    {
     "ename": "NameError",
     "evalue": "name 'tut_page' is not defined",
     "output_type": "error",
     "traceback": [
      "\u001b[0;31m---------------------------------------------------------------------------\u001b[0m",
      "\u001b[0;31mNameError\u001b[0m                                 Traceback (most recent call last)",
      "\u001b[0;32m<ipython-input-35-07f362076193>\u001b[0m in \u001b[0;36m<module>\u001b[0;34m\u001b[0m\n\u001b[0;32m----> 1\u001b[0;31m \u001b[0mtut_soup\u001b[0m \u001b[0;34m=\u001b[0m \u001b[0mBeautifulSoup\u001b[0m\u001b[0;34m(\u001b[0m\u001b[0mtut_page\u001b[0m\u001b[0;34m.\u001b[0m\u001b[0mcontent\u001b[0m\u001b[0;34m)\u001b[0m\u001b[0;34m\u001b[0m\u001b[0;34m\u001b[0m\u001b[0m\n\u001b[0m",
      "\u001b[0;31mNameError\u001b[0m: name 'tut_page' is not defined"
     ]
    }
   ],
   "source": [
    "tut_soup = BeautifulSoup(tut_page.content)"
   ]
  },
  {
   "cell_type": "markdown",
   "id": "82c303b7",
   "metadata": {},
   "source": [
    "# Q9. Could not complete this question since the website request could not be completed and the content cannot be accessed."
   ]
  },
  {
   "cell_type": "markdown",
   "id": "8a365d03",
   "metadata": {},
   "source": [
    "# 10. Python program to scrape monument name, monument description, image URL about top 10 monuments from puredestinations.co.uk."
   ]
  },
  {
   "cell_type": "code",
   "execution_count": 44,
   "id": "ab508ebf",
   "metadata": {},
   "outputs": [
    {
     "data": {
      "text/plain": [
       "<Response [200]>"
      ]
     },
     "execution_count": 44,
     "metadata": {},
     "output_type": "execute_result"
    }
   ],
   "source": [
    "dest_page = requests.get('https://www.puredestinations.co.uk/top-10-famous-monuments-to-visit-in-india/')\n",
    "dest_page"
   ]
  },
  {
   "cell_type": "code",
   "execution_count": 45,
   "id": "5ac099e3",
   "metadata": {},
   "outputs": [],
   "source": [
    "dest_soup = BeautifulSoup(dest_page.content)"
   ]
  },
  {
   "cell_type": "code",
   "execution_count": 46,
   "id": "a99223c6",
   "metadata": {},
   "outputs": [
    {
     "data": {
      "text/plain": [
       "['Add items to your wishlist to see them here.',\n",
       " 'Add items to your wishlist to see them here.',\n",
       " 'Call us now',\n",
       " 'Rich in culture and diversity, India is home to some of the finest historical monuments in the world. Most recognised by the UNESCO World Heritage Site, the famous Indian monuments include the beautiful Taj Mahal, the sacred Golden Temple and the cultural site, Hawa Mahal. Discover and experience the magnificent insights into India’s rich heritage and ancient architecture. Read on for our list of the top must see historical monuments in India below.',\n",
       " 'Taj Mahal, Agra',\n",
       " 'Enlisted in the Seven Wonders of the World, The Taj Mahal is one of the most beautiful and famous buildings located in the city of Agra. This white marble monument was built by a Mughal Emperor called Shahajahan in memory of his beloved wife. Due to its amazing architecture and the history behind it, this world heritage site has become very popular to visit by all travellers and romantics from all over the world.',\n",
       " '',\n",
       " 'Golden Temple (Harmandir Sahib), Amritsar ',\n",
       " 'The holiest shrine and pilgrimage place located in Amritsar is The Golden Temple known as the Harmandir Sahib. This is the most famous and sacred Sikh Gurdwara in Punjab, India, adorned with rich history and gold gilded exterior. If you are interested in culture and history, be sure to visit this popular attraction in India.',\n",
       " '',\n",
       " 'Meenakshi Temple, Madurai',\n",
       " 'Meenakshi Temple is situated on the Southern banks of Vaigai River in the temple city Madurai. This temple is dedicated to Parvati and her consort, Shiva and is visited by most Hindu and Tamil devotees and architectural lovers throughout the world. It is believed that this shrine houses 33,000 sculptures in its 14 gopurams. It’s no doubt one place to visit if you are impressed with art and cultural history.',\n",
       " '',\n",
       " 'Mysore Palace, Mysore',\n",
       " 'The Mysore Palace is a famous historical monument in the city of Mysore in Karnataka. Commonly described as the City of Palaces, this is the most famous tourist attraction in India after the Taj Mahal. It is a sight not be missed with its spacious halls, lovely art paintings and Indo-Saracenic style architecture. Best time to visit is at night due to the astonishing illuminated lights covering the whole monument.',\n",
       " '',\n",
       " 'Gateway of India, Mumbai',\n",
       " 'Even though Mumbai is famous for its Bollywood actors and movies, the most famous attraction in Mumbai is The Gateway of India. It is a popular gathering spot for locals, travellers, street vendors and photographers and is known as the Taj Mahal of Mumbai. The majestic monument was built to commemorate the visit of King George V and Queen Mary to Bombay. With so much fun and excitement this place is not to be missed with family or on your tour of India.',\n",
       " '',\n",
       " 'Red Fort, New Delhi',\n",
       " 'Declared as the UNESCO’s World Heritage Site, Red Fort is located in the centre of beautiful Delhi. If you love learning about history and culture then this famous historic monument is a must see place to visit. Built by the Mughal Emperor, Shah Jahan in 1648, and housing a number of museums, its walls are built of red sandstone. The best time to visit is on Independence Day where the Prime Minister of India hoists the national flag at the Red Fort. End the day by heading to an Indian restaurant and enjoy the varieties of wonderful cuisines.',\n",
       " '',\n",
       " 'Hawa Mahal, Jaipur',\n",
       " 'Explore a blend of beauty and Rajasthan culture, the Hawa Mahal also known as Palace of Winds is situated in the capital of Rajasthan, Jaipur. Built from red and pink sandstones by the Maharaja Sawi Pratap Singh in 1799, this unique five storey structure is one of the most prominent tourist attractions in the Jaipur city.',\n",
       " '',\n",
       " 'Qutub Minar, New Delhi',\n",
       " 'Discover one of the tallest towers in the world and the second tallest Minar of India standing elegantly in the Capital city, New Delhi. Standing at 72.5 metres and consisting of around 379 stairs, this famous monument represents the rich architecture of India. As it is a UNESCO World Heritage Site made of red sandstone and decorated with Arabic and Brahmi inscriptions, travellers from around the world come to view this most famous tower in India.',\n",
       " '',\n",
       " 'Sanchi Stupa, Sanchi',\n",
       " 'The beautiful and massive dome, Sanchi Stupa also known as the Great Stupa is a world renowned Buddhist monument in Sanchi, India. It was constructed by Emperor Ashoka, and is one of the oldest stone structures in the heart of India. Experience the Indian culture by visiting these major attractions in Sanchi including a number of Buddhist Stupas, monasteries and temples.',\n",
       " '',\n",
       " 'Charminar, Hyderabad',\n",
       " 'No visit to Hyderabad should be complete without visiting the most famous and majestic monument known as the Charminar. This magnificent and striking mosque constructed in 1591 has four minarets and is the most recognisable symbol in the city of Hyderabad.',\n",
       " '',\n",
       " 'Things to know before planning your trip to India',\n",
       " 'Are you inspired to plan an incredible trip to India? Get in touch with Pure Destinations today to speak to a travel expert to plan a tailor made itinerary.\\xa0Fancy exploring these famous monuments in India? Why not\\xa0contact\\xa0us today!',\n",
       " 'Speak To Our Travel Experts',\n",
       " 'Get A Quote From The Experts',\n",
       " 'Find Out About Our Luxury Service',\n",
       " 'Keep up to date with all our exclusive offers, and the best inspiration and advice with by joining our mailing list.',\n",
       " 'Where to go. What to do. Check out all the latest hotspots by clicking here on use the button below to get a copy sent to your door.',\n",
       " '© 2021 Pure Destinations Ltd | Honeymoon Dreams is a trading name for Pure Destinations Ltd whose registered address can be found on Companies House, Company No. 10604545']"
      ]
     },
     "execution_count": 46,
     "metadata": {},
     "output_type": "execute_result"
    }
   ],
   "source": [
    "dest_name = []\n",
    "\n",
    "for i in dest_soup.find_all('p'):\n",
    "    dest_name.append(i.text)\n",
    "    \n",
    "dest_name"
   ]
  },
  {
   "cell_type": "code",
   "execution_count": 48,
   "id": "ecb830c4",
   "metadata": {},
   "outputs": [
    {
     "data": {
      "text/html": [
       "<div>\n",
       "<style scoped>\n",
       "    .dataframe tbody tr th:only-of-type {\n",
       "        vertical-align: middle;\n",
       "    }\n",
       "\n",
       "    .dataframe tbody tr th {\n",
       "        vertical-align: top;\n",
       "    }\n",
       "\n",
       "    .dataframe thead th {\n",
       "        text-align: right;\n",
       "    }\n",
       "</style>\n",
       "<table border=\"1\" class=\"dataframe\">\n",
       "  <thead>\n",
       "    <tr style=\"text-align: right;\">\n",
       "      <th></th>\n",
       "      <th>Data</th>\n",
       "    </tr>\n",
       "  </thead>\n",
       "  <tbody>\n",
       "    <tr>\n",
       "      <th>0</th>\n",
       "      <td>Add items to your wishlist to see them here.</td>\n",
       "    </tr>\n",
       "    <tr>\n",
       "      <th>1</th>\n",
       "      <td>Add items to your wishlist to see them here.</td>\n",
       "    </tr>\n",
       "    <tr>\n",
       "      <th>2</th>\n",
       "      <td>Call us now</td>\n",
       "    </tr>\n",
       "    <tr>\n",
       "      <th>3</th>\n",
       "      <td>Rich in culture and diversity, India is home t...</td>\n",
       "    </tr>\n",
       "    <tr>\n",
       "      <th>4</th>\n",
       "      <td>Taj Mahal, Agra</td>\n",
       "    </tr>\n",
       "    <tr>\n",
       "      <th>5</th>\n",
       "      <td>Enlisted in the Seven Wonders of the World, Th...</td>\n",
       "    </tr>\n",
       "    <tr>\n",
       "      <th>6</th>\n",
       "      <td></td>\n",
       "    </tr>\n",
       "    <tr>\n",
       "      <th>7</th>\n",
       "      <td>Golden Temple (Harmandir Sahib), Amritsar</td>\n",
       "    </tr>\n",
       "    <tr>\n",
       "      <th>8</th>\n",
       "      <td>The holiest shrine and pilgrimage place locate...</td>\n",
       "    </tr>\n",
       "    <tr>\n",
       "      <th>9</th>\n",
       "      <td></td>\n",
       "    </tr>\n",
       "    <tr>\n",
       "      <th>10</th>\n",
       "      <td>Meenakshi Temple, Madurai</td>\n",
       "    </tr>\n",
       "    <tr>\n",
       "      <th>11</th>\n",
       "      <td>Meenakshi Temple is situated on the Southern b...</td>\n",
       "    </tr>\n",
       "    <tr>\n",
       "      <th>12</th>\n",
       "      <td></td>\n",
       "    </tr>\n",
       "    <tr>\n",
       "      <th>13</th>\n",
       "      <td>Mysore Palace, Mysore</td>\n",
       "    </tr>\n",
       "    <tr>\n",
       "      <th>14</th>\n",
       "      <td>The Mysore Palace is a famous historical monum...</td>\n",
       "    </tr>\n",
       "    <tr>\n",
       "      <th>15</th>\n",
       "      <td></td>\n",
       "    </tr>\n",
       "    <tr>\n",
       "      <th>16</th>\n",
       "      <td>Gateway of India, Mumbai</td>\n",
       "    </tr>\n",
       "    <tr>\n",
       "      <th>17</th>\n",
       "      <td>Even though Mumbai is famous for its Bollywood...</td>\n",
       "    </tr>\n",
       "    <tr>\n",
       "      <th>18</th>\n",
       "      <td></td>\n",
       "    </tr>\n",
       "    <tr>\n",
       "      <th>19</th>\n",
       "      <td>Red Fort, New Delhi</td>\n",
       "    </tr>\n",
       "    <tr>\n",
       "      <th>20</th>\n",
       "      <td>Declared as the UNESCO’s World Heritage Site, ...</td>\n",
       "    </tr>\n",
       "    <tr>\n",
       "      <th>21</th>\n",
       "      <td></td>\n",
       "    </tr>\n",
       "    <tr>\n",
       "      <th>22</th>\n",
       "      <td>Hawa Mahal, Jaipur</td>\n",
       "    </tr>\n",
       "    <tr>\n",
       "      <th>23</th>\n",
       "      <td>Explore a blend of beauty and Rajasthan cultur...</td>\n",
       "    </tr>\n",
       "    <tr>\n",
       "      <th>24</th>\n",
       "      <td></td>\n",
       "    </tr>\n",
       "    <tr>\n",
       "      <th>25</th>\n",
       "      <td>Qutub Minar, New Delhi</td>\n",
       "    </tr>\n",
       "    <tr>\n",
       "      <th>26</th>\n",
       "      <td>Discover one of the tallest towers in the worl...</td>\n",
       "    </tr>\n",
       "    <tr>\n",
       "      <th>27</th>\n",
       "      <td></td>\n",
       "    </tr>\n",
       "    <tr>\n",
       "      <th>28</th>\n",
       "      <td>Sanchi Stupa, Sanchi</td>\n",
       "    </tr>\n",
       "    <tr>\n",
       "      <th>29</th>\n",
       "      <td>The beautiful and massive dome, Sanchi Stupa a...</td>\n",
       "    </tr>\n",
       "    <tr>\n",
       "      <th>30</th>\n",
       "      <td></td>\n",
       "    </tr>\n",
       "    <tr>\n",
       "      <th>31</th>\n",
       "      <td>Charminar, Hyderabad</td>\n",
       "    </tr>\n",
       "    <tr>\n",
       "      <th>32</th>\n",
       "      <td>No visit to Hyderabad should be complete witho...</td>\n",
       "    </tr>\n",
       "    <tr>\n",
       "      <th>33</th>\n",
       "      <td></td>\n",
       "    </tr>\n",
       "    <tr>\n",
       "      <th>34</th>\n",
       "      <td>Things to know before planning your trip to India</td>\n",
       "    </tr>\n",
       "    <tr>\n",
       "      <th>35</th>\n",
       "      <td>Are you inspired to plan an incredible trip to...</td>\n",
       "    </tr>\n",
       "    <tr>\n",
       "      <th>36</th>\n",
       "      <td>Speak To Our Travel Experts</td>\n",
       "    </tr>\n",
       "    <tr>\n",
       "      <th>37</th>\n",
       "      <td>Get A Quote From The Experts</td>\n",
       "    </tr>\n",
       "    <tr>\n",
       "      <th>38</th>\n",
       "      <td>Find Out About Our Luxury Service</td>\n",
       "    </tr>\n",
       "    <tr>\n",
       "      <th>39</th>\n",
       "      <td>Keep up to date with all our exclusive offers,...</td>\n",
       "    </tr>\n",
       "    <tr>\n",
       "      <th>40</th>\n",
       "      <td>Where to go. What to do. Check out all the lat...</td>\n",
       "    </tr>\n",
       "    <tr>\n",
       "      <th>41</th>\n",
       "      <td>© 2021 Pure Destinations Ltd | Honeymoon Dream...</td>\n",
       "    </tr>\n",
       "  </tbody>\n",
       "</table>\n",
       "</div>"
      ],
      "text/plain": [
       "                                                 Data\n",
       "0        Add items to your wishlist to see them here.\n",
       "1        Add items to your wishlist to see them here.\n",
       "2                                         Call us now\n",
       "3   Rich in culture and diversity, India is home t...\n",
       "4                                     Taj Mahal, Agra\n",
       "5   Enlisted in the Seven Wonders of the World, Th...\n",
       "6                                                    \n",
       "7          Golden Temple (Harmandir Sahib), Amritsar \n",
       "8   The holiest shrine and pilgrimage place locate...\n",
       "9                                                    \n",
       "10                          Meenakshi Temple, Madurai\n",
       "11  Meenakshi Temple is situated on the Southern b...\n",
       "12                                                   \n",
       "13                              Mysore Palace, Mysore\n",
       "14  The Mysore Palace is a famous historical monum...\n",
       "15                                                   \n",
       "16                           Gateway of India, Mumbai\n",
       "17  Even though Mumbai is famous for its Bollywood...\n",
       "18                                                   \n",
       "19                                Red Fort, New Delhi\n",
       "20  Declared as the UNESCO’s World Heritage Site, ...\n",
       "21                                                   \n",
       "22                                 Hawa Mahal, Jaipur\n",
       "23  Explore a blend of beauty and Rajasthan cultur...\n",
       "24                                                   \n",
       "25                             Qutub Minar, New Delhi\n",
       "26  Discover one of the tallest towers in the worl...\n",
       "27                                                   \n",
       "28                               Sanchi Stupa, Sanchi\n",
       "29  The beautiful and massive dome, Sanchi Stupa a...\n",
       "30                                                   \n",
       "31                               Charminar, Hyderabad\n",
       "32  No visit to Hyderabad should be complete witho...\n",
       "33                                                   \n",
       "34  Things to know before planning your trip to India\n",
       "35  Are you inspired to plan an incredible trip to...\n",
       "36                        Speak To Our Travel Experts\n",
       "37                       Get A Quote From The Experts\n",
       "38                  Find Out About Our Luxury Service\n",
       "39  Keep up to date with all our exclusive offers,...\n",
       "40  Where to go. What to do. Check out all the lat...\n",
       "41  © 2021 Pure Destinations Ltd | Honeymoon Dream..."
      ]
     },
     "execution_count": 48,
     "metadata": {},
     "output_type": "execute_result"
    }
   ],
   "source": [
    "dest = pd.DataFrame({'Data':dest_name})\n",
    "dest"
   ]
  },
  {
   "cell_type": "code",
   "execution_count": 50,
   "id": "49bc9f72",
   "metadata": {},
   "outputs": [],
   "source": [
    "dest.drop(dest.index[range(0,4)],axis=0,inplace=True)"
   ]
  },
  {
   "cell_type": "code",
   "execution_count": 52,
   "id": "02e03b73",
   "metadata": {},
   "outputs": [],
   "source": [
    "dest.drop(dest.index[range(29,38)],axis=0,inplace=True)"
   ]
  },
  {
   "cell_type": "code",
   "execution_count": 55,
   "id": "bdd978c4",
   "metadata": {},
   "outputs": [],
   "source": [
    "dest.reset_index(drop=True,inplace=True)"
   ]
  },
  {
   "cell_type": "code",
   "execution_count": 60,
   "id": "1a78c0aa",
   "metadata": {},
   "outputs": [],
   "source": [
    "dest.replace('',np.nan,inplace=True)"
   ]
  },
  {
   "cell_type": "code",
   "execution_count": 63,
   "id": "efeefeeb",
   "metadata": {},
   "outputs": [],
   "source": [
    "dest.dropna(inplace=True)"
   ]
  },
  {
   "cell_type": "code",
   "execution_count": 64,
   "id": "20258490",
   "metadata": {},
   "outputs": [],
   "source": [
    "dest.reset_index(drop=True,inplace=True)"
   ]
  },
  {
   "cell_type": "code",
   "execution_count": 65,
   "id": "effa05c6",
   "metadata": {},
   "outputs": [
    {
     "data": {
      "text/html": [
       "<div>\n",
       "<style scoped>\n",
       "    .dataframe tbody tr th:only-of-type {\n",
       "        vertical-align: middle;\n",
       "    }\n",
       "\n",
       "    .dataframe tbody tr th {\n",
       "        vertical-align: top;\n",
       "    }\n",
       "\n",
       "    .dataframe thead th {\n",
       "        text-align: right;\n",
       "    }\n",
       "</style>\n",
       "<table border=\"1\" class=\"dataframe\">\n",
       "  <thead>\n",
       "    <tr style=\"text-align: right;\">\n",
       "      <th></th>\n",
       "      <th>Data</th>\n",
       "    </tr>\n",
       "  </thead>\n",
       "  <tbody>\n",
       "    <tr>\n",
       "      <th>0</th>\n",
       "      <td>Taj Mahal, Agra</td>\n",
       "    </tr>\n",
       "    <tr>\n",
       "      <th>1</th>\n",
       "      <td>Enlisted in the Seven Wonders of the World, Th...</td>\n",
       "    </tr>\n",
       "    <tr>\n",
       "      <th>2</th>\n",
       "      <td>Golden Temple (Harmandir Sahib), Amritsar</td>\n",
       "    </tr>\n",
       "    <tr>\n",
       "      <th>3</th>\n",
       "      <td>The holiest shrine and pilgrimage place locate...</td>\n",
       "    </tr>\n",
       "    <tr>\n",
       "      <th>4</th>\n",
       "      <td>Meenakshi Temple, Madurai</td>\n",
       "    </tr>\n",
       "    <tr>\n",
       "      <th>5</th>\n",
       "      <td>Meenakshi Temple is situated on the Southern b...</td>\n",
       "    </tr>\n",
       "    <tr>\n",
       "      <th>6</th>\n",
       "      <td>Mysore Palace, Mysore</td>\n",
       "    </tr>\n",
       "    <tr>\n",
       "      <th>7</th>\n",
       "      <td>The Mysore Palace is a famous historical monum...</td>\n",
       "    </tr>\n",
       "    <tr>\n",
       "      <th>8</th>\n",
       "      <td>Gateway of India, Mumbai</td>\n",
       "    </tr>\n",
       "    <tr>\n",
       "      <th>9</th>\n",
       "      <td>Even though Mumbai is famous for its Bollywood...</td>\n",
       "    </tr>\n",
       "    <tr>\n",
       "      <th>10</th>\n",
       "      <td>Red Fort, New Delhi</td>\n",
       "    </tr>\n",
       "    <tr>\n",
       "      <th>11</th>\n",
       "      <td>Declared as the UNESCO’s World Heritage Site, ...</td>\n",
       "    </tr>\n",
       "    <tr>\n",
       "      <th>12</th>\n",
       "      <td>Hawa Mahal, Jaipur</td>\n",
       "    </tr>\n",
       "    <tr>\n",
       "      <th>13</th>\n",
       "      <td>Explore a blend of beauty and Rajasthan cultur...</td>\n",
       "    </tr>\n",
       "    <tr>\n",
       "      <th>14</th>\n",
       "      <td>Qutub Minar, New Delhi</td>\n",
       "    </tr>\n",
       "    <tr>\n",
       "      <th>15</th>\n",
       "      <td>Discover one of the tallest towers in the worl...</td>\n",
       "    </tr>\n",
       "    <tr>\n",
       "      <th>16</th>\n",
       "      <td>Sanchi Stupa, Sanchi</td>\n",
       "    </tr>\n",
       "    <tr>\n",
       "      <th>17</th>\n",
       "      <td>The beautiful and massive dome, Sanchi Stupa a...</td>\n",
       "    </tr>\n",
       "    <tr>\n",
       "      <th>18</th>\n",
       "      <td>Charminar, Hyderabad</td>\n",
       "    </tr>\n",
       "    <tr>\n",
       "      <th>19</th>\n",
       "      <td>No visit to Hyderabad should be complete witho...</td>\n",
       "    </tr>\n",
       "  </tbody>\n",
       "</table>\n",
       "</div>"
      ],
      "text/plain": [
       "                                                 Data\n",
       "0                                     Taj Mahal, Agra\n",
       "1   Enlisted in the Seven Wonders of the World, Th...\n",
       "2          Golden Temple (Harmandir Sahib), Amritsar \n",
       "3   The holiest shrine and pilgrimage place locate...\n",
       "4                           Meenakshi Temple, Madurai\n",
       "5   Meenakshi Temple is situated on the Southern b...\n",
       "6                               Mysore Palace, Mysore\n",
       "7   The Mysore Palace is a famous historical monum...\n",
       "8                            Gateway of India, Mumbai\n",
       "9   Even though Mumbai is famous for its Bollywood...\n",
       "10                                Red Fort, New Delhi\n",
       "11  Declared as the UNESCO’s World Heritage Site, ...\n",
       "12                                 Hawa Mahal, Jaipur\n",
       "13  Explore a blend of beauty and Rajasthan cultur...\n",
       "14                             Qutub Minar, New Delhi\n",
       "15  Discover one of the tallest towers in the worl...\n",
       "16                               Sanchi Stupa, Sanchi\n",
       "17  The beautiful and massive dome, Sanchi Stupa a...\n",
       "18                               Charminar, Hyderabad\n",
       "19  No visit to Hyderabad should be complete witho..."
      ]
     },
     "execution_count": 65,
     "metadata": {},
     "output_type": "execute_result"
    }
   ],
   "source": [
    "dest"
   ]
  },
  {
   "cell_type": "code",
   "execution_count": 75,
   "id": "b1faab5d",
   "metadata": {},
   "outputs": [
    {
     "name": "stdout",
     "output_type": "stream",
     "text": [
      "                                      Monument\n",
      "0                              Taj Mahal, Agra\n",
      "2   Golden Temple (Harmandir Sahib), Amritsar \n",
      "4                    Meenakshi Temple, Madurai\n",
      "6                        Mysore Palace, Mysore\n",
      "8                     Gateway of India, Mumbai\n",
      "10                         Red Fort, New Delhi\n",
      "12                          Hawa Mahal, Jaipur\n",
      "14                      Qutub Minar, New Delhi\n",
      "16                        Sanchi Stupa, Sanchi\n",
      "18                        Charminar, Hyderabad\n",
      "                                          Description\n",
      "1   Enlisted in the Seven Wonders of the World, Th...\n",
      "3   The holiest shrine and pilgrimage place locate...\n",
      "5   Meenakshi Temple is situated on the Southern b...\n",
      "7   The Mysore Palace is a famous historical monum...\n",
      "9   Even though Mumbai is famous for its Bollywood...\n",
      "11  Declared as the UNESCO’s World Heritage Site, ...\n",
      "13  Explore a blend of beauty and Rajasthan cultur...\n",
      "15  Discover one of the tallest towers in the worl...\n",
      "17  The beautiful and massive dome, Sanchi Stupa a...\n",
      "19  No visit to Hyderabad should be complete witho...\n"
     ]
    }
   ],
   "source": [
    "dest_name = dest.drop(dest.index[range(1,20,2)],axis=0)\n",
    "dest_name.rename(columns={'Data':'Monument'},inplace=True)\n",
    "print(dest_name)\n",
    "dest_desc = dest.drop(dest.index[range(0,20,2)],axis=0)\n",
    "dest_desc.rename(columns={'Data':'Description'},inplace=True)\n",
    "print(dest_desc)"
   ]
  },
  {
   "cell_type": "code",
   "execution_count": 76,
   "id": "9267b835",
   "metadata": {},
   "outputs": [
    {
     "data": {
      "text/html": [
       "<div>\n",
       "<style scoped>\n",
       "    .dataframe tbody tr th:only-of-type {\n",
       "        vertical-align: middle;\n",
       "    }\n",
       "\n",
       "    .dataframe tbody tr th {\n",
       "        vertical-align: top;\n",
       "    }\n",
       "\n",
       "    .dataframe thead th {\n",
       "        text-align: right;\n",
       "    }\n",
       "</style>\n",
       "<table border=\"1\" class=\"dataframe\">\n",
       "  <thead>\n",
       "    <tr style=\"text-align: right;\">\n",
       "      <th></th>\n",
       "      <th>Monument</th>\n",
       "      <th>Description</th>\n",
       "    </tr>\n",
       "  </thead>\n",
       "  <tbody>\n",
       "    <tr>\n",
       "      <th>0</th>\n",
       "      <td>Taj Mahal, Agra</td>\n",
       "      <td>Enlisted in the Seven Wonders of the World, Th...</td>\n",
       "    </tr>\n",
       "    <tr>\n",
       "      <th>1</th>\n",
       "      <td>Golden Temple (Harmandir Sahib), Amritsar</td>\n",
       "      <td>The holiest shrine and pilgrimage place locate...</td>\n",
       "    </tr>\n",
       "    <tr>\n",
       "      <th>2</th>\n",
       "      <td>Meenakshi Temple, Madurai</td>\n",
       "      <td>Meenakshi Temple is situated on the Southern b...</td>\n",
       "    </tr>\n",
       "    <tr>\n",
       "      <th>3</th>\n",
       "      <td>Mysore Palace, Mysore</td>\n",
       "      <td>The Mysore Palace is a famous historical monum...</td>\n",
       "    </tr>\n",
       "    <tr>\n",
       "      <th>4</th>\n",
       "      <td>Gateway of India, Mumbai</td>\n",
       "      <td>Even though Mumbai is famous for its Bollywood...</td>\n",
       "    </tr>\n",
       "    <tr>\n",
       "      <th>5</th>\n",
       "      <td>Red Fort, New Delhi</td>\n",
       "      <td>Declared as the UNESCO’s World Heritage Site, ...</td>\n",
       "    </tr>\n",
       "    <tr>\n",
       "      <th>6</th>\n",
       "      <td>Hawa Mahal, Jaipur</td>\n",
       "      <td>Explore a blend of beauty and Rajasthan cultur...</td>\n",
       "    </tr>\n",
       "    <tr>\n",
       "      <th>7</th>\n",
       "      <td>Qutub Minar, New Delhi</td>\n",
       "      <td>Discover one of the tallest towers in the worl...</td>\n",
       "    </tr>\n",
       "    <tr>\n",
       "      <th>8</th>\n",
       "      <td>Sanchi Stupa, Sanchi</td>\n",
       "      <td>The beautiful and massive dome, Sanchi Stupa a...</td>\n",
       "    </tr>\n",
       "    <tr>\n",
       "      <th>9</th>\n",
       "      <td>Charminar, Hyderabad</td>\n",
       "      <td>No visit to Hyderabad should be complete witho...</td>\n",
       "    </tr>\n",
       "  </tbody>\n",
       "</table>\n",
       "</div>"
      ],
      "text/plain": [
       "                                     Monument  \\\n",
       "0                             Taj Mahal, Agra   \n",
       "1  Golden Temple (Harmandir Sahib), Amritsar    \n",
       "2                   Meenakshi Temple, Madurai   \n",
       "3                       Mysore Palace, Mysore   \n",
       "4                    Gateway of India, Mumbai   \n",
       "5                         Red Fort, New Delhi   \n",
       "6                          Hawa Mahal, Jaipur   \n",
       "7                      Qutub Minar, New Delhi   \n",
       "8                        Sanchi Stupa, Sanchi   \n",
       "9                        Charminar, Hyderabad   \n",
       "\n",
       "                                         Description  \n",
       "0  Enlisted in the Seven Wonders of the World, Th...  \n",
       "1  The holiest shrine and pilgrimage place locate...  \n",
       "2  Meenakshi Temple is situated on the Southern b...  \n",
       "3  The Mysore Palace is a famous historical monum...  \n",
       "4  Even though Mumbai is famous for its Bollywood...  \n",
       "5  Declared as the UNESCO’s World Heritage Site, ...  \n",
       "6  Explore a blend of beauty and Rajasthan cultur...  \n",
       "7  Discover one of the tallest towers in the worl...  \n",
       "8  The beautiful and massive dome, Sanchi Stupa a...  \n",
       "9  No visit to Hyderabad should be complete witho...  "
      ]
     },
     "execution_count": 76,
     "metadata": {},
     "output_type": "execute_result"
    }
   ],
   "source": [
    "dest_name.reset_index(drop=True,inplace=True)\n",
    "dest_desc.reset_index(drop=True,inplace=True)\n",
    "\n",
    "dest_df = pd.concat([dest_name,dest_desc],axis=1)\n",
    "dest_df"
   ]
  },
  {
   "cell_type": "code",
   "execution_count": null,
   "id": "c20ad95b",
   "metadata": {},
   "outputs": [],
   "source": []
  }
 ],
 "metadata": {
  "kernelspec": {
   "display_name": "Python 3",
   "language": "python",
   "name": "python3"
  },
  "language_info": {
   "codemirror_mode": {
    "name": "ipython",
    "version": 3
   },
   "file_extension": ".py",
   "mimetype": "text/x-python",
   "name": "python",
   "nbconvert_exporter": "python",
   "pygments_lexer": "ipython3",
   "version": "3.8.8"
  }
 },
 "nbformat": 4,
 "nbformat_minor": 5
}
